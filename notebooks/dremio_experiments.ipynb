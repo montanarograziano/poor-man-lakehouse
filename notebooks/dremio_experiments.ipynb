{
 "cells": [
  {
   "cell_type": "code",
   "execution_count": 1,
   "id": "aa97ddf1",
   "metadata": {},
   "outputs": [
    {
     "name": "stderr",
     "output_type": "stream",
     "text": [
      "\u001b[32m2025-08-31 23:50:42.801\u001b[0m | \u001b[1mINFO    \u001b[0m | \u001b[36mpoor_man_lakehouse.dremio.builder\u001b[0m:\u001b[36m_initialize_dremio\u001b[0m:\u001b[36m109\u001b[0m - \u001b[1mInitializing Dremio setup...\u001b[0m\n",
      "\u001b[32m2025-08-31 23:50:42.967\u001b[0m | \u001b[1mINFO    \u001b[0m | \u001b[36mpoor_man_lakehouse.dremio.builder\u001b[0m:\u001b[36m_initialize_dremio\u001b[0m:\u001b[36m115\u001b[0m - \u001b[1mAdmin user authentication successful\u001b[0m\n",
      "\u001b[32m2025-08-31 23:50:43.111\u001b[0m | \u001b[1mINFO    \u001b[0m | \u001b[36mpoor_man_lakehouse.dremio.builder\u001b[0m:\u001b[36m_ensure_nessie_catalog\u001b[0m:\u001b[36m204\u001b[0m - \u001b[1mNessie catalog 'nessie' already exists\u001b[0m\n"
     ]
    }
   ],
   "source": [
    "from poor_man_lakehouse.dremio.builder import DremioConnection\n",
    "\n",
    "con = DremioConnection()"
   ]
  },
  {
   "cell_type": "code",
   "execution_count": 2,
   "id": "8f398782",
   "metadata": {},
   "outputs": [
    {
     "data": {
      "text/plain": [
       "'7bu8n7m631kliqe1mav0qch1q5'"
      ]
     },
     "execution_count": 2,
     "metadata": {},
     "output_type": "execute_result"
    }
   ],
   "source": [
    "con._get_token()"
   ]
  },
  {
   "cell_type": "code",
   "execution_count": 3,
   "id": "0bbfa0fd",
   "metadata": {},
   "outputs": [],
   "source": [
    "con.set_catalog(\"nessie\")"
   ]
  },
  {
   "cell_type": "code",
   "execution_count": 4,
   "id": "6d58c876",
   "metadata": {},
   "outputs": [
    {
     "data": {
      "text/html": [
       "<div><style>\n",
       ".dataframe > thead > tr,\n",
       ".dataframe > tbody > tr {\n",
       "  text-align: right;\n",
       "  white-space: pre-wrap;\n",
       "}\n",
       "</style>\n",
       "<small>shape: (1, 4)</small><table border=\"1\" class=\"dataframe\"><thead><tr><th>id</th><th>first_name</th><th>last_name</th><th>age</th></tr><tr><td>i32</td><td>str</td><td>str</td><td>i32</td></tr></thead><tbody><tr><td>1</td><td>&quot;John&quot;</td><td>&quot;Doe&quot;</td><td>28</td></tr></tbody></table></div>"
      ],
      "text/plain": [
       "shape: (1, 4)\n",
       "┌─────┬────────────┬───────────┬─────┐\n",
       "│ id  ┆ first_name ┆ last_name ┆ age │\n",
       "│ --- ┆ ---        ┆ ---       ┆ --- │\n",
       "│ i32 ┆ str        ┆ str       ┆ i32 │\n",
       "╞═════╪════════════╪═══════════╪═════╡\n",
       "│ 1   ┆ John       ┆ Doe       ┆ 28  │\n",
       "└─────┴────────────┴───────────┴─────┘"
      ]
     },
     "execution_count": 4,
     "metadata": {},
     "output_type": "execute_result"
    }
   ],
   "source": [
    "create_query = \"\"\"CREATE TABLE IF NOT EXISTS nessie.people (\n",
    "id INT,\n",
    "first_name VARCHAR,\n",
    "last_name VARCHAR,\n",
    "age INT\n",
    ") PARTITION BY (truncate(1, last_name));\n",
    "\"\"\"\n",
    "insert_query = \"\"\"INSERT INTO nessie.people (id, first_name, last_name, age) VALUES (1, 'John', 'Doe', 28)\"\"\"\n",
    "select_query = \"\"\"SELECT * FROM nessie.people\"\"\"\n",
    "\n",
    "con.to_polars(create_query)\n",
    "con.to_polars(insert_query)\n",
    "con.to_polars(select_query)"
   ]
  },
  {
   "cell_type": "code",
   "execution_count": null,
   "id": "6d26cf3a",
   "metadata": {},
   "outputs": [
    {
     "data": {
      "text/plain": [
       "'nessie'"
      ]
     },
     "execution_count": 8,
     "metadata": {},
     "output_type": "execute_result"
    }
   ],
   "source": []
  },
  {
   "cell_type": "code",
   "execution_count": 7,
   "id": "3d44c6aa",
   "metadata": {},
   "outputs": [
    {
     "data": {
      "text/html": [
       "<div><style>\n",
       ".dataframe > thead > tr,\n",
       ".dataframe > tbody > tr {\n",
       "  text-align: right;\n",
       "  white-space: pre-wrap;\n",
       "}\n",
       "</style>\n",
       "<small>shape: (5, 5)</small><table border=\"1\" class=\"dataframe\"><thead><tr><th>datetime</th><th>symbol</th><th>bid</th><th>ask</th><th>details</th></tr><tr><td>datetime[ms]</td><td>str</td><td>f32</td><td>f64</td><td>struct[1]</td></tr></thead><tbody><tr><td>2023-01-01 12:00:00</td><td>&quot;AAPL2&quot;</td><td>150.0</td><td>151.0</td><td>{&quot;user1&quot;}</td></tr><tr><td>2023-01-02 12:00:00</td><td>&quot;GOOGL&quot;</td><td>2800.0</td><td>2805.0</td><td>{&quot;user2&quot;}</td></tr><tr><td>2023-01-03 12:00:00</td><td>&quot;MSFT&quot;</td><td>300.0</td><td>305.0</td><td>{null}</td></tr><tr><td>2023-01-04 12:00:00</td><td>&quot;AMZ&quot;</td><td>2800.0</td><td>2805.0</td><td>{&quot;user1&quot;}</td></tr><tr><td>2023-01-04 12:00:00</td><td>&quot;AMZ&quot;</td><td>2800.0</td><td>2805.0</td><td>{&quot;user1&quot;}</td></tr></tbody></table></div>"
      ],
      "text/plain": [
       "shape: (5, 5)\n",
       "┌─────────────────────┬────────┬────────┬────────┬───────────┐\n",
       "│ datetime            ┆ symbol ┆ bid    ┆ ask    ┆ details   │\n",
       "│ ---                 ┆ ---    ┆ ---    ┆ ---    ┆ ---       │\n",
       "│ datetime[ms]        ┆ str    ┆ f32    ┆ f64    ┆ struct[1] │\n",
       "╞═════════════════════╪════════╪════════╪════════╪═══════════╡\n",
       "│ 2023-01-01 12:00:00 ┆ AAPL2  ┆ 150.0  ┆ 151.0  ┆ {\"user1\"} │\n",
       "│ 2023-01-02 12:00:00 ┆ GOOGL  ┆ 2800.0 ┆ 2805.0 ┆ {\"user2\"} │\n",
       "│ 2023-01-03 12:00:00 ┆ MSFT   ┆ 300.0  ┆ 305.0  ┆ {null}    │\n",
       "│ 2023-01-04 12:00:00 ┆ AMZ    ┆ 2800.0 ┆ 2805.0 ┆ {\"user1\"} │\n",
       "│ 2023-01-04 12:00:00 ┆ AMZ    ┆ 2800.0 ┆ 2805.0 ┆ {\"user1\"} │\n",
       "└─────────────────────┴────────┴────────┴────────┴───────────┘"
      ]
     },
     "execution_count": 7,
     "metadata": {},
     "output_type": "execute_result"
    }
   ],
   "source": [
    "con.to_polars('SELECT * from nessie.\"default\".bids')"
   ]
  }
 ],
 "metadata": {
  "kernelspec": {
   "display_name": "poor-man-lakehouse",
   "language": "python",
   "name": "python3"
  },
  "language_info": {
   "codemirror_mode": {
    "name": "ipython",
    "version": 3
   },
   "file_extension": ".py",
   "mimetype": "text/x-python",
   "name": "python",
   "nbconvert_exporter": "python",
   "pygments_lexer": "ipython3",
   "version": "3.12.5"
  }
 },
 "nbformat": 4,
 "nbformat_minor": 5
}
