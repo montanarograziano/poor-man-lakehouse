{
 "cells": [
  {
   "cell_type": "code",
   "execution_count": 2,
   "id": "aa97ddf1",
   "metadata": {},
   "outputs": [
    {
     "name": "stderr",
     "output_type": "stream",
     "text": [
      "\u001b[32m2025-08-30 13:17:08.222\u001b[0m | \u001b[1mINFO    \u001b[0m | \u001b[36mpoor_man_lakehouse.dremio.builder\u001b[0m:\u001b[36m_initialize_dremio\u001b[0m:\u001b[36m109\u001b[0m - \u001b[1mInitializing Dremio setup...\u001b[0m\n",
      "\u001b[32m2025-08-30 13:17:43.331\u001b[0m | \u001b[1mINFO    \u001b[0m | \u001b[36mpoor_man_lakehouse.dremio.builder\u001b[0m:\u001b[36m_initialize_dremio\u001b[0m:\u001b[36m115\u001b[0m - \u001b[1mAdmin user authentication successful\u001b[0m\n",
      "\u001b[32m2025-08-30 13:17:43.367\u001b[0m | \u001b[1mINFO    \u001b[0m | \u001b[36mpoor_man_lakehouse.dremio.builder\u001b[0m:\u001b[36m_ensure_nessie_catalog\u001b[0m:\u001b[36m206\u001b[0m - \u001b[1mNessie catalog 'nessie' not found. Creating...\u001b[0m\n",
      "\u001b[32m2025-08-30 13:17:43.453\u001b[0m | \u001b[31m\u001b[1mERROR   \u001b[0m | \u001b[36mpoor_man_lakehouse.dremio.builder\u001b[0m:\u001b[36m_create_nessie_catalog\u001b[0m:\u001b[36m273\u001b[0m - \u001b[31m\u001b[1mFailed to create Nessie catalog. Status code: 409\u001b[0m\n",
      "\u001b[32m2025-08-30 13:17:43.453\u001b[0m | \u001b[31m\u001b[1mERROR   \u001b[0m | \u001b[36mpoor_man_lakehouse.dremio.builder\u001b[0m:\u001b[36m_create_nessie_catalog\u001b[0m:\u001b[36m276\u001b[0m - \u001b[31m\u001b[1mResponse: {\"errorMessage\":\"Source already exists with name nessie.\",\"context\":[],\"moreInfo\":\"\"}\u001b[0m\n",
      "\u001b[32m2025-08-30 13:17:43.454\u001b[0m | \u001b[31m\u001b[1mERROR   \u001b[0m | \u001b[36mpoor_man_lakehouse.dremio.builder\u001b[0m:\u001b[36m_ensure_nessie_catalog\u001b[0m:\u001b[36m210\u001b[0m - \u001b[31m\u001b[1mFailed to create Nessie catalog\u001b[0m\n",
      "\u001b[32m2025-08-30 13:17:43.455\u001b[0m | \u001b[31m\u001b[1mERROR   \u001b[0m | \u001b[36mpoor_man_lakehouse.dremio.builder\u001b[0m:\u001b[36m_initialize_dremio\u001b[0m:\u001b[36m141\u001b[0m - \u001b[31m\u001b[1mFailed to initialize Dremio: Failed to create Nessie catalog\u001b[0m\n"
     ]
    },
    {
     "ename": "ValueError",
     "evalue": "Failed to create Nessie catalog",
     "output_type": "error",
     "traceback": [
      "\u001b[31m---------------------------------------------------------------------------\u001b[39m",
      "\u001b[31mValueError\u001b[39m                                Traceback (most recent call last)",
      "\u001b[36mCell\u001b[39m\u001b[36m \u001b[39m\u001b[32mIn[2]\u001b[39m\u001b[32m, line 3\u001b[39m\n\u001b[32m      1\u001b[39m \u001b[38;5;28;01mfrom\u001b[39;00m\u001b[38;5;250m \u001b[39m\u001b[34;01mpoor_man_lakehouse\u001b[39;00m\u001b[34;01m.\u001b[39;00m\u001b[34;01mdremio\u001b[39;00m\u001b[34;01m.\u001b[39;00m\u001b[34;01mbuilder\u001b[39;00m\u001b[38;5;250m \u001b[39m\u001b[38;5;28;01mimport\u001b[39;00m DremioConnection\n\u001b[32m----> \u001b[39m\u001b[32m3\u001b[39m con = \u001b[43mDremioConnection\u001b[49m\u001b[43m(\u001b[49m\u001b[43m)\u001b[49m\n",
      "\u001b[36mFile \u001b[39m\u001b[32m~/GitHub/poor-man-lakehouse/src/poor_man_lakehouse/dremio/builder.py:32\u001b[39m, in \u001b[36mDremioConnection.__init__\u001b[39m\u001b[34m(self)\u001b[39m\n\u001b[32m     29\u001b[39m \u001b[38;5;28mself\u001b[39m.arrow_endpoint = \u001b[33mf\u001b[39m\u001b[33m\"\u001b[39m\u001b[38;5;132;01m{\u001b[39;00msettings.ARROW_ENDPOINT\u001b[38;5;132;01m}\u001b[39;00m\u001b[33m\"\u001b[39m\n\u001b[32m     31\u001b[39m \u001b[38;5;66;03m# Initialize Dremio setup (user and catalog)\u001b[39;00m\n\u001b[32m---> \u001b[39m\u001b[32m32\u001b[39m \u001b[38;5;28;43mself\u001b[39;49m\u001b[43m.\u001b[49m\u001b[43m_initialize_dremio\u001b[49m\u001b[43m(\u001b[49m\u001b[43m)\u001b[49m\n\u001b[32m     34\u001b[39m \u001b[38;5;66;03m# Get token and setup client\u001b[39;00m\n\u001b[32m     35\u001b[39m \u001b[38;5;28mself\u001b[39m.token = \u001b[38;5;28mself\u001b[39m._get_token()\n",
      "\u001b[36mFile \u001b[39m\u001b[32m~/GitHub/poor-man-lakehouse/src/poor_man_lakehouse/dremio/builder.py:117\u001b[39m, in \u001b[36mDremioConnection._initialize_dremio\u001b[39m\u001b[34m(self)\u001b[39m\n\u001b[32m    115\u001b[39m     logger.info(\u001b[33m\"\u001b[39m\u001b[33mAdmin user authentication successful\u001b[39m\u001b[33m\"\u001b[39m)\n\u001b[32m    116\u001b[39m     \u001b[38;5;66;03m# Check and create Nessie catalog if needed\u001b[39;00m\n\u001b[32m--> \u001b[39m\u001b[32m117\u001b[39m     \u001b[38;5;28;43mself\u001b[39;49m\u001b[43m.\u001b[49m\u001b[43m_ensure_nessie_catalog\u001b[49m\u001b[43m(\u001b[49m\u001b[43mtoken\u001b[49m\u001b[43m)\u001b[49m\n\u001b[32m    118\u001b[39m \u001b[38;5;28;01melse\u001b[39;00m:\n\u001b[32m    119\u001b[39m     logger.warning(\n\u001b[32m    120\u001b[39m         \u001b[33m\"\u001b[39m\u001b[33mAdmin user authentication failed - attempting to create user\u001b[39m\u001b[33m\"\u001b[39m\n\u001b[32m    121\u001b[39m     )\n",
      "\u001b[36mFile \u001b[39m\u001b[32m~/GitHub/poor-man-lakehouse/src/poor_man_lakehouse/dremio/builder.py:211\u001b[39m, in \u001b[36mDremioConnection._ensure_nessie_catalog\u001b[39m\u001b[34m(self, token)\u001b[39m\n\u001b[32m    209\u001b[39m \u001b[38;5;28;01melse\u001b[39;00m:\n\u001b[32m    210\u001b[39m     logger.error(\u001b[33m\"\u001b[39m\u001b[33mFailed to create Nessie catalog\u001b[39m\u001b[33m\"\u001b[39m)\n\u001b[32m--> \u001b[39m\u001b[32m211\u001b[39m     \u001b[38;5;28;01mraise\u001b[39;00m \u001b[38;5;167;01mValueError\u001b[39;00m(\u001b[33m\"\u001b[39m\u001b[33mFailed to create Nessie catalog\u001b[39m\u001b[33m\"\u001b[39m)\n",
      "\u001b[31mValueError\u001b[39m: Failed to create Nessie catalog"
     ]
    }
   ],
   "source": [
    "from poor_man_lakehouse.dremio.builder import DremioConnection\n",
    "\n",
    "con = DremioConnection()"
   ]
  },
  {
   "cell_type": "code",
   "execution_count": 2,
   "id": "8f398782",
   "metadata": {},
   "outputs": [
    {
     "data": {
      "text/plain": [
       "'cet5rhd43ic9aqdcejb5d1ug5i'"
      ]
     },
     "execution_count": 2,
     "metadata": {},
     "output_type": "execute_result"
    }
   ],
   "source": [
    "con._get_token()"
   ]
  },
  {
   "cell_type": "code",
   "execution_count": null,
   "id": "0bbfa0fd",
   "metadata": {},
   "outputs": [],
   "source": [
    "con.set_catalog(\"nessie\")"
   ]
  },
  {
   "cell_type": "code",
   "execution_count": null,
   "id": "6d58c876",
   "metadata": {},
   "outputs": [],
   "source": [
    "create_query = \"\"\"CREATE TABLE IF NOT EXISTS nessie.people (\n",
    "id INT,\n",
    "first_name VARCHAR,\n",
    "last_name VARCHAR,\n",
    "age INT\n",
    ") PARTITION BY (truncate(1, last_name));\n",
    "\"\"\"\n",
    "insert_query = \"\"\"INSERT INTO nessie.people (id, first_name, last_name, age) VALUES (1, 'John', 'Doe', 28)\"\"\"\n",
    "select_query = \"\"\"SELECT * FROM nessie.people\"\"\"\n",
    "\n",
    "con.to_polars(create_query)\n",
    "con.to_polars(insert_query)\n",
    "con.to_polars(select_query)"
   ]
  }
 ],
 "metadata": {
  "kernelspec": {
   "display_name": "poor-man-lakehouse",
   "language": "python",
   "name": "python3"
  },
  "language_info": {
   "codemirror_mode": {
    "name": "ipython",
    "version": 3
   },
   "file_extension": ".py",
   "mimetype": "text/x-python",
   "name": "python",
   "nbconvert_exporter": "python",
   "pygments_lexer": "ipython3",
   "version": "3.12.5"
  }
 },
 "nbformat": 4,
 "nbformat_minor": 5
}
