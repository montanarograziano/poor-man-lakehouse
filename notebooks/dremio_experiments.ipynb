{
 "cells": [
  {
   "cell_type": "code",
   "execution_count": 2,
   "id": "aa97ddf1",
   "metadata": {},
   "outputs": [
    {
     "name": "stderr",
     "output_type": "stream",
     "text": [
      "\u001b[32m2025-08-30 13:51:38.525\u001b[0m | \u001b[1mINFO    \u001b[0m | \u001b[36mpoor_man_lakehouse.dremio.builder\u001b[0m:\u001b[36m_initialize_dremio\u001b[0m:\u001b[36m109\u001b[0m - \u001b[1mInitializing Dremio setup...\u001b[0m\n",
      "\u001b[32m2025-08-30 13:51:42.905\u001b[0m | \u001b[1mINFO    \u001b[0m | \u001b[36mpoor_man_lakehouse.dremio.builder\u001b[0m:\u001b[36m_initialize_dremio\u001b[0m:\u001b[36m115\u001b[0m - \u001b[1mAdmin user authentication successful\u001b[0m\n",
      "\u001b[32m2025-08-30 13:52:09.762\u001b[0m | \u001b[1mINFO    \u001b[0m | \u001b[36mpoor_man_lakehouse.dremio.builder\u001b[0m:\u001b[36m_ensure_nessie_catalog\u001b[0m:\u001b[36m204\u001b[0m - \u001b[1mNessie catalog 'nessie' already exists\u001b[0m\n"
     ]
    }
   ],
   "source": [
    "from poor_man_lakehouse.dremio.builder import DremioConnection\n",
    "\n",
    "con = DremioConnection()"
   ]
  },
  {
   "cell_type": "code",
   "execution_count": null,
   "id": "8f398782",
   "metadata": {},
   "outputs": [],
   "source": [
    "con._get_token()"
   ]
  },
  {
   "cell_type": "code",
   "execution_count": null,
   "id": "0bbfa0fd",
   "metadata": {},
   "outputs": [],
   "source": [
    "con.set_catalog(\"nessie\")"
   ]
  },
  {
   "cell_type": "code",
   "execution_count": null,
   "id": "6d58c876",
   "metadata": {},
   "outputs": [],
   "source": [
    "create_query = \"\"\"CREATE TABLE IF NOT EXISTS nessie.people (\n",
    "id INT,\n",
    "first_name VARCHAR,\n",
    "last_name VARCHAR,\n",
    "age INT\n",
    ") PARTITION BY (truncate(1, last_name));\n",
    "\"\"\"\n",
    "insert_query = \"\"\"INSERT INTO nessie.people (id, first_name, last_name, age) VALUES (1, 'John', 'Doe', 28)\"\"\"\n",
    "select_query = \"\"\"SELECT * FROM nessie.people\"\"\"\n",
    "\n",
    "con.to_polars(create_query)\n",
    "con.to_polars(insert_query)\n",
    "con.to_polars(select_query)"
   ]
  }
 ],
 "metadata": {
  "kernelspec": {
   "display_name": "poor-man-lakehouse",
   "language": "python",
   "name": "python3"
  },
  "language_info": {
   "codemirror_mode": {
    "name": "ipython",
    "version": 3
   },
   "file_extension": ".py",
   "mimetype": "text/x-python",
   "name": "python",
   "nbconvert_exporter": "python",
   "pygments_lexer": "ipython3",
   "version": "3.12.5"
  }
 },
 "nbformat": 4,
 "nbformat_minor": 5
}
