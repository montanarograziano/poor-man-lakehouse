{
 "cells": [
  {
   "cell_type": "markdown",
   "id": "d9c090d6",
   "metadata": {},
   "source": [
    "# Delta experiments"
   ]
  },
  {
   "cell_type": "markdown",
   "id": "c774a558",
   "metadata": {},
   "source": [
    "## Import libraries"
   ]
  },
  {
   "cell_type": "code",
   "execution_count": 1,
   "id": "17a8d9ff",
   "metadata": {},
   "outputs": [],
   "source": [
    "import polars as pl\n",
    "from deltalake import DeltaTable, write_deltalake\n",
    "\n",
    "delta_path = \"../data/test_delta\"\n",
    "\n",
    "# Create a mock Polars DataFrame and save it as a Delta. It should have columns date (in yyyy-mm-dd format), country, and value.\n",
    "df = pl.DataFrame({\n",
    "    \"date\": [\"2023-01-01\", \"2023-01-02\", \"2023-01-03\"],\n",
    "    \"country\": [\"US\", \"CA\", \"MX\"],\n",
    "    \"value\": [100, 200, 300],\n",
    "})\n",
    "\n",
    "# Write Delta using delta-rs write_deltalake function\n",
    "write_deltalake(\n",
    "    table_or_uri=delta_path,\n",
    "    data=df.to_arrow(),\n",
    "    mode=\"overwrite\",\n",
    "    name=\"test_delta\",\n",
    "    partition_by=[\"date\"],\n",
    "    schema_mode=\"merge\",\n",
    ")"
   ]
  },
  {
   "cell_type": "markdown",
   "id": "1bd44710",
   "metadata": {},
   "source": [
    "One can also use `write_delta` predicate from Polars"
   ]
  },
  {
   "cell_type": "code",
   "execution_count": 2,
   "id": "a4029d67",
   "metadata": {},
   "outputs": [],
   "source": [
    "df.write_delta(\n",
    "    target=delta_path,\n",
    "    mode=\"overwrite\",\n",
    "    delta_write_options={\n",
    "        \"partition_by\": [\"date\"],\n",
    "        \"schema_mode\": \"merge\",\n",
    "        \"name\": \"test_delta\",\n",
    "    },\n",
    ")"
   ]
  },
  {
   "cell_type": "markdown",
   "id": "ddfd95a6",
   "metadata": {},
   "source": [
    "## Read Delta"
   ]
  },
  {
   "cell_type": "markdown",
   "id": "4fe9e746",
   "metadata": {},
   "source": [
    "We can read delta using the `DeltaTable` class, and then converting to Polars through Arrow (but that will load the whole table with no possibility of filtering data), or using `scan_delta` and filter before materializing it.\n",
    "\n",
    "In case the Delta is located in a remote storage, we can pass `storage_options` parameter (to both Polars and DeltaTable)."
   ]
  },
  {
   "cell_type": "code",
   "execution_count": 3,
   "id": "bd85005e",
   "metadata": {},
   "outputs": [
    {
     "data": {
      "text/html": [
       "<div><style>\n",
       ".dataframe > thead > tr,\n",
       ".dataframe > tbody > tr {\n",
       "  text-align: right;\n",
       "  white-space: pre-wrap;\n",
       "}\n",
       "</style>\n",
       "<small>shape: (3, 3)</small><table border=\"1\" class=\"dataframe\"><thead><tr><th>date</th><th>country</th><th>value</th></tr><tr><td>str</td><td>str</td><td>i64</td></tr></thead><tbody><tr><td>&quot;2023-01-01&quot;</td><td>&quot;US&quot;</td><td>100</td></tr><tr><td>&quot;2023-01-02&quot;</td><td>&quot;CA&quot;</td><td>200</td></tr><tr><td>&quot;2023-01-03&quot;</td><td>&quot;MX&quot;</td><td>300</td></tr></tbody></table></div>"
      ],
      "text/plain": [
       "shape: (3, 3)\n",
       "┌────────────┬─────────┬───────┐\n",
       "│ date       ┆ country ┆ value │\n",
       "│ ---        ┆ ---     ┆ ---   │\n",
       "│ str        ┆ str     ┆ i64   │\n",
       "╞════════════╪═════════╪═══════╡\n",
       "│ 2023-01-01 ┆ US      ┆ 100   │\n",
       "│ 2023-01-02 ┆ CA      ┆ 200   │\n",
       "│ 2023-01-03 ┆ MX      ┆ 300   │\n",
       "└────────────┴─────────┴───────┘"
      ]
     },
     "execution_count": 3,
     "metadata": {},
     "output_type": "execute_result"
    }
   ],
   "source": [
    "dt = DeltaTable(delta_path)\n",
    "pl.from_arrow(dt.to_pyarrow_table()).select(\"date\", \"country\", \"value\").sort(\"date\")"
   ]
  },
  {
   "cell_type": "code",
   "execution_count": 4,
   "id": "81bb5db3",
   "metadata": {},
   "outputs": [
    {
     "data": {
      "text/html": [
       "<div><style>\n",
       ".dataframe > thead > tr,\n",
       ".dataframe > tbody > tr {\n",
       "  text-align: right;\n",
       "  white-space: pre-wrap;\n",
       "}\n",
       "</style>\n",
       "<small>shape: (3, 3)</small><table border=\"1\" class=\"dataframe\"><thead><tr><th>date</th><th>country</th><th>value</th></tr><tr><td>str</td><td>str</td><td>i64</td></tr></thead><tbody><tr><td>&quot;2023-01-01&quot;</td><td>&quot;US&quot;</td><td>100</td></tr><tr><td>&quot;2023-01-02&quot;</td><td>&quot;CA&quot;</td><td>200</td></tr><tr><td>&quot;2023-01-03&quot;</td><td>&quot;MX&quot;</td><td>300</td></tr></tbody></table></div>"
      ],
      "text/plain": [
       "shape: (3, 3)\n",
       "┌────────────┬─────────┬───────┐\n",
       "│ date       ┆ country ┆ value │\n",
       "│ ---        ┆ ---     ┆ ---   │\n",
       "│ str        ┆ str     ┆ i64   │\n",
       "╞════════════╪═════════╪═══════╡\n",
       "│ 2023-01-01 ┆ US      ┆ 100   │\n",
       "│ 2023-01-02 ┆ CA      ┆ 200   │\n",
       "│ 2023-01-03 ┆ MX      ┆ 300   │\n",
       "└────────────┴─────────┴───────┘"
      ]
     },
     "execution_count": 4,
     "metadata": {},
     "output_type": "execute_result"
    }
   ],
   "source": [
    "pl.scan_delta(delta_path).collect().select(\"date\", \"country\", \"value\").sort(\"date\")"
   ]
  },
  {
   "cell_type": "markdown",
   "id": "2aaaa32f",
   "metadata": {},
   "source": [
    "## Read Delta using DuckDB"
   ]
  },
  {
   "cell_type": "code",
   "execution_count": 5,
   "id": "8e8bbe80",
   "metadata": {},
   "outputs": [
    {
     "data": {
      "text/plain": [
       "┌────────────┬─────────┬───────┐\n",
       "│    date    │ country │ value │\n",
       "│  varchar   │ varchar │ int64 │\n",
       "├────────────┼─────────┼───────┤\n",
       "│ 2023-01-02 │ CA      │   200 │\n",
       "│ 2023-01-03 │ MX      │   300 │\n",
       "│ 2023-01-01 │ US      │   100 │\n",
       "└────────────┴─────────┴───────┘"
      ]
     },
     "execution_count": 5,
     "metadata": {},
     "output_type": "execute_result"
    }
   ],
   "source": [
    "import duckdb\n",
    "\n",
    "# Query the Delta table using DuckDB\n",
    "duckdb.sql(f\"\"\"\n",
    "SELECT date, country, value FROM delta_scan('{delta_path}' ORDER BY date)\n",
    "           \"\"\")\n"
   ]
  },
  {
   "cell_type": "markdown",
   "id": "45c1ca23",
   "metadata": {},
   "source": [
    "## Upsert"
   ]
  },
  {
   "cell_type": "markdown",
   "id": "55342520",
   "metadata": {},
   "source": [
    "Create another DataFrame with a 2 rows, one that will be appended and one that will be overwritten (considering `date` as join column)."
   ]
  },
  {
   "cell_type": "code",
   "execution_count": 6,
   "id": "c9e006ca",
   "metadata": {},
   "outputs": [
    {
     "data": {
      "text/html": [
       "<div><style>\n",
       ".dataframe > thead > tr,\n",
       ".dataframe > tbody > tr {\n",
       "  text-align: right;\n",
       "  white-space: pre-wrap;\n",
       "}\n",
       "</style>\n",
       "<small>shape: (2, 3)</small><table border=\"1\" class=\"dataframe\"><thead><tr><th>date</th><th>country</th><th>value</th></tr><tr><td>str</td><td>str</td><td>i64</td></tr></thead><tbody><tr><td>&quot;2023-01-01&quot;</td><td>&quot;US&quot;</td><td>150</td></tr><tr><td>&quot;2023-01-04&quot;</td><td>&quot;IT&quot;</td><td>250</td></tr></tbody></table></div>"
      ],
      "text/plain": [
       "shape: (2, 3)\n",
       "┌────────────┬─────────┬───────┐\n",
       "│ date       ┆ country ┆ value │\n",
       "│ ---        ┆ ---     ┆ ---   │\n",
       "│ str        ┆ str     ┆ i64   │\n",
       "╞════════════╪═════════╪═══════╡\n",
       "│ 2023-01-01 ┆ US      ┆ 150   │\n",
       "│ 2023-01-04 ┆ IT      ┆ 250   │\n",
       "└────────────┴─────────┴───────┘"
      ]
     },
     "execution_count": 6,
     "metadata": {},
     "output_type": "execute_result"
    }
   ],
   "source": [
    "upsert_df = pl.DataFrame({\n",
    "    \"date\": [\"2023-01-01\", \"2023-01-04\"],\n",
    "    \"country\": [\"US\", \"IT\"],\n",
    "    \"value\": [150, 250],\n",
    "})\n",
    "upsert_df"
   ]
  },
  {
   "cell_type": "code",
   "execution_count": 7,
   "id": "85056007",
   "metadata": {},
   "outputs": [
    {
     "data": {
      "text/plain": [
       "{'num_source_rows': 2,\n",
       " 'num_target_rows_inserted': 1,\n",
       " 'num_target_rows_updated': 1,\n",
       " 'num_target_rows_deleted': 0,\n",
       " 'num_target_rows_copied': 0,\n",
       " 'num_output_rows': 2,\n",
       " 'num_target_files_scanned': 3,\n",
       " 'num_target_files_skipped_during_scan': 0,\n",
       " 'num_target_files_added': 2,\n",
       " 'num_target_files_removed': 1,\n",
       " 'execution_time_ms': 10,\n",
       " 'scan_time_ms': 0,\n",
       " 'rewrite_time_ms': 1}"
      ]
     },
     "execution_count": 7,
     "metadata": {},
     "output_type": "execute_result"
    }
   ],
   "source": [
    "# Upsert the new data into the Delta table\n",
    "dt.merge(\n",
    "    source=upsert_df.to_arrow(),\n",
    "    source_alias=\"source\",\n",
    "    target_alias=\"target\",\n",
    "    predicate=\"source.date = target.date\",\n",
    "    merge_schema=True,\n",
    ").when_matched_update_all().when_not_matched_insert_all().execute()\n"
   ]
  },
  {
   "cell_type": "code",
   "execution_count": 8,
   "id": "fbabacb6",
   "metadata": {},
   "outputs": [
    {
     "data": {
      "text/html": [
       "<div><style>\n",
       ".dataframe > thead > tr,\n",
       ".dataframe > tbody > tr {\n",
       "  text-align: right;\n",
       "  white-space: pre-wrap;\n",
       "}\n",
       "</style>\n",
       "<small>shape: (4, 3)</small><table border=\"1\" class=\"dataframe\"><thead><tr><th>date</th><th>country</th><th>value</th></tr><tr><td>str</td><td>str</td><td>i64</td></tr></thead><tbody><tr><td>&quot;2023-01-01&quot;</td><td>&quot;US&quot;</td><td>150</td></tr><tr><td>&quot;2023-01-02&quot;</td><td>&quot;CA&quot;</td><td>200</td></tr><tr><td>&quot;2023-01-03&quot;</td><td>&quot;MX&quot;</td><td>300</td></tr><tr><td>&quot;2023-01-04&quot;</td><td>&quot;IT&quot;</td><td>250</td></tr></tbody></table></div>"
      ],
      "text/plain": [
       "shape: (4, 3)\n",
       "┌────────────┬─────────┬───────┐\n",
       "│ date       ┆ country ┆ value │\n",
       "│ ---        ┆ ---     ┆ ---   │\n",
       "│ str        ┆ str     ┆ i64   │\n",
       "╞════════════╪═════════╪═══════╡\n",
       "│ 2023-01-01 ┆ US      ┆ 150   │\n",
       "│ 2023-01-02 ┆ CA      ┆ 200   │\n",
       "│ 2023-01-03 ┆ MX      ┆ 300   │\n",
       "│ 2023-01-04 ┆ IT      ┆ 250   │\n",
       "└────────────┴─────────┴───────┘"
      ]
     },
     "execution_count": 8,
     "metadata": {},
     "output_type": "execute_result"
    }
   ],
   "source": [
    "# Verify the upsert\n",
    "pl.scan_delta(delta_path).collect().select(\"date\", \"country\", \"value\").sort(\"date\")\n"
   ]
  },
  {
   "cell_type": "markdown",
   "id": "1015b5c9",
   "metadata": {},
   "source": [
    "## Read Delta History"
   ]
  },
  {
   "cell_type": "code",
   "execution_count": 9,
   "id": "4e7d8b0d",
   "metadata": {},
   "outputs": [
    {
     "data": {
      "text/html": [
       "<div><style>\n",
       ".dataframe > thead > tr,\n",
       ".dataframe > tbody > tr {\n",
       "  text-align: right;\n",
       "  white-space: pre-wrap;\n",
       "}\n",
       "</style>\n",
       "<small>shape: (3, 7)</small><table border=\"1\" class=\"dataframe\"><thead><tr><th>timestamp</th><th>operation</th><th>operationParameters</th><th>readVersion</th><th>clientVersion</th><th>operationMetrics</th><th>version</th></tr><tr><td>i64</td><td>str</td><td>struct[6]</td><td>i64</td><td>str</td><td>struct[17]</td><td>i64</td></tr></thead><tbody><tr><td>1749397303868</td><td>&quot;WRITE&quot;</td><td>{null,null,null,null,&quot;[&quot;date&quot;]&quot;,&quot;Overwrite&quot;}</td><td>null</td><td>&quot;delta-rs.py-0.25.5&quot;</td><td>{2,null,null,null,null,null,null,null,null,null,null,null,null,3,3,0,0}</td><td>0</td></tr><tr><td>1749397303879</td><td>&quot;WRITE&quot;</td><td>{null,null,null,null,&quot;[&quot;date&quot;]&quot;,&quot;Overwrite&quot;}</td><td>null</td><td>&quot;delta-rs.py-0.25.5&quot;</td><td>{2,null,null,null,null,null,null,null,null,null,null,null,null,3,3,0,3}</td><td>1</td></tr><tr><td>1749397304078</td><td>&quot;MERGE&quot;</td><td>{&quot;[]&quot;,&quot;[{&quot;actionType&quot;:&quot;insert&quot;}]&quot;,&quot;source.date = target.date&quot;,&quot;[{&quot;actionType&quot;:&quot;update&quot;}]&quot;,null,null}</td><td>1</td><td>&quot;delta-rs.py-0.25.5&quot;</td><td>{10,2,2,2,1,3,0,0,0,1,1,1,0,null,null,null,null}</td><td>2</td></tr></tbody></table></div>"
      ],
      "text/plain": [
       "shape: (3, 7)\n",
       "┌───────────────┬───────────┬───────────────┬─────────────┬───────────────┬──────────────┬─────────┐\n",
       "│ timestamp     ┆ operation ┆ operationPara ┆ readVersion ┆ clientVersion ┆ operationMet ┆ version │\n",
       "│ ---           ┆ ---       ┆ meters        ┆ ---         ┆ ---           ┆ rics         ┆ ---     │\n",
       "│ i64           ┆ str       ┆ ---           ┆ i64         ┆ str           ┆ ---          ┆ i64     │\n",
       "│               ┆           ┆ struct[6]     ┆             ┆               ┆ struct[17]   ┆         │\n",
       "╞═══════════════╪═══════════╪═══════════════╪═════════════╪═══════════════╪══════════════╪═════════╡\n",
       "│ 1749397303868 ┆ WRITE     ┆ {null,null,nu ┆ null        ┆ delta-rs.py-0 ┆ {2,null,null ┆ 0       │\n",
       "│               ┆           ┆ ll,null,\"[\"da ┆             ┆ .25.5         ┆ ,null,null,n ┆         │\n",
       "│               ┆           ┆ te\"]…         ┆             ┆               ┆ ull,nu…      ┆         │\n",
       "│ 1749397303879 ┆ WRITE     ┆ {null,null,nu ┆ null        ┆ delta-rs.py-0 ┆ {2,null,null ┆ 1       │\n",
       "│               ┆           ┆ ll,null,\"[\"da ┆             ┆ .25.5         ┆ ,null,null,n ┆         │\n",
       "│               ┆           ┆ te\"]…         ┆             ┆               ┆ ull,nu…      ┆         │\n",
       "│ 1749397304078 ┆ MERGE     ┆ {\"[]\",\"[{\"act ┆ 1           ┆ delta-rs.py-0 ┆ {10,2,2,2,1, ┆ 2       │\n",
       "│               ┆           ┆ ionType\":\"ins ┆             ┆ .25.5         ┆ 3,0,0,0,1,1, ┆         │\n",
       "│               ┆           ┆ ert\"…         ┆             ┆               ┆ 1,0,nu…      ┆         │\n",
       "└───────────────┴───────────┴───────────────┴─────────────┴───────────────┴──────────────┴─────────┘"
      ]
     },
     "execution_count": 9,
     "metadata": {},
     "output_type": "execute_result"
    }
   ],
   "source": [
    "pl.from_dicts(dt.history()).sort(\"timestamp\")"
   ]
  },
  {
   "cell_type": "markdown",
   "id": "fa94e26f",
   "metadata": {},
   "source": [
    "## Perform Time Travel, Vacuum and Optimize\n",
    "\n",
    "Delta has some nice features:\n",
    "\n",
    "- **Time travel**: Restore old version\n",
    "- **Vacuum**: Remove data not referenced by available table version\n",
    "- **Optimize**: Compact smaller files together"
   ]
  },
  {
   "cell_type": "code",
   "execution_count": 10,
   "id": "31330290",
   "metadata": {},
   "outputs": [
    {
     "data": {
      "text/html": [
       "<div><style>\n",
       ".dataframe > thead > tr,\n",
       ".dataframe > tbody > tr {\n",
       "  text-align: right;\n",
       "  white-space: pre-wrap;\n",
       "}\n",
       "</style>\n",
       "<small>shape: (3, 3)</small><table border=\"1\" class=\"dataframe\"><thead><tr><th>date</th><th>country</th><th>value</th></tr><tr><td>str</td><td>str</td><td>i64</td></tr></thead><tbody><tr><td>&quot;2023-01-01&quot;</td><td>&quot;US&quot;</td><td>100</td></tr><tr><td>&quot;2023-01-02&quot;</td><td>&quot;CA&quot;</td><td>200</td></tr><tr><td>&quot;2023-01-03&quot;</td><td>&quot;MX&quot;</td><td>300</td></tr></tbody></table></div>"
      ],
      "text/plain": [
       "shape: (3, 3)\n",
       "┌────────────┬─────────┬───────┐\n",
       "│ date       ┆ country ┆ value │\n",
       "│ ---        ┆ ---     ┆ ---   │\n",
       "│ str        ┆ str     ┆ i64   │\n",
       "╞════════════╪═════════╪═══════╡\n",
       "│ 2023-01-01 ┆ US      ┆ 100   │\n",
       "│ 2023-01-02 ┆ CA      ┆ 200   │\n",
       "│ 2023-01-03 ┆ MX      ┆ 300   │\n",
       "└────────────┴─────────┴───────┘"
      ]
     },
     "execution_count": 10,
     "metadata": {},
     "output_type": "execute_result"
    }
   ],
   "source": [
    "# Load initial version from Polars\n",
    "pl.scan_delta(delta_path, version=0).collect().select(\"date\", \"country\", \"value\").sort(\n",
    "    \"date\"\n",
    ")"
   ]
  },
  {
   "cell_type": "code",
   "execution_count": 11,
   "id": "d8d88481",
   "metadata": {},
   "outputs": [
    {
     "data": {
      "text/html": [
       "<div><style>\n",
       ".dataframe > thead > tr,\n",
       ".dataframe > tbody > tr {\n",
       "  text-align: right;\n",
       "  white-space: pre-wrap;\n",
       "}\n",
       "</style>\n",
       "<small>shape: (3, 3)</small><table border=\"1\" class=\"dataframe\"><thead><tr><th>date</th><th>country</th><th>value</th></tr><tr><td>str</td><td>str</td><td>i64</td></tr></thead><tbody><tr><td>&quot;2023-01-01&quot;</td><td>&quot;US&quot;</td><td>100</td></tr><tr><td>&quot;2023-01-02&quot;</td><td>&quot;CA&quot;</td><td>200</td></tr><tr><td>&quot;2023-01-03&quot;</td><td>&quot;MX&quot;</td><td>300</td></tr></tbody></table></div>"
      ],
      "text/plain": [
       "shape: (3, 3)\n",
       "┌────────────┬─────────┬───────┐\n",
       "│ date       ┆ country ┆ value │\n",
       "│ ---        ┆ ---     ┆ ---   │\n",
       "│ str        ┆ str     ┆ i64   │\n",
       "╞════════════╪═════════╪═══════╡\n",
       "│ 2023-01-01 ┆ US      ┆ 100   │\n",
       "│ 2023-01-02 ┆ CA      ┆ 200   │\n",
       "│ 2023-01-03 ┆ MX      ┆ 300   │\n",
       "└────────────┴─────────┴───────┘"
      ]
     },
     "execution_count": 11,
     "metadata": {},
     "output_type": "execute_result"
    }
   ],
   "source": [
    "# Restore initial version\n",
    "dt.restore(target=0)\n",
    "pl.scan_delta(delta_path).collect().select(\"date\", \"country\", \"value\").sort(\"date\")"
   ]
  },
  {
   "cell_type": "markdown",
   "id": "d155e396",
   "metadata": {},
   "source": [
    "However, restoring a Delta causes DuckDB to break on read."
   ]
  },
  {
   "cell_type": "code",
   "execution_count": 12,
   "id": "3c4ceb64",
   "metadata": {},
   "outputs": [
    {
     "ename": "IOException",
     "evalue": "IO Error: DeltKernel InternalError (31): Internal error Reader features must not be present when minimum reader version = 1 or 2. This is a kernel bug, please report.",
     "output_type": "error",
     "traceback": [
      "\u001b[31m---------------------------------------------------------------------------\u001b[39m",
      "\u001b[31mIOException\u001b[39m                               Traceback (most recent call last)",
      "\u001b[36mCell\u001b[39m\u001b[36m \u001b[39m\u001b[32mIn[12]\u001b[39m\u001b[32m, line 4\u001b[39m\n\u001b[32m      1\u001b[39m \u001b[38;5;28;01mimport\u001b[39;00m\u001b[38;5;250m \u001b[39m\u001b[34;01mduckdb\u001b[39;00m\n\u001b[32m      3\u001b[39m \u001b[38;5;66;03m# Query the Delta table using DuckDB\u001b[39;00m\n\u001b[32m----> \u001b[39m\u001b[32m4\u001b[39m \u001b[43mduckdb\u001b[49m\u001b[43m.\u001b[49m\u001b[43msql\u001b[49m\u001b[43m(\u001b[49m\u001b[33;43mf\u001b[39;49m\u001b[33;43m\"\"\"\u001b[39;49m\n\u001b[32m      5\u001b[39m \u001b[33;43mSELECT * FROM delta_scan(\u001b[39;49m\u001b[33;43m'\u001b[39;49m\u001b[38;5;132;43;01m{\u001b[39;49;00m\u001b[43mdelta_path\u001b[49m\u001b[38;5;132;43;01m}\u001b[39;49;00m\u001b[33;43m'\u001b[39;49m\u001b[33;43m)\u001b[39;49m\n\u001b[32m      6\u001b[39m \u001b[33;43m           \u001b[39;49m\u001b[33;43m\"\"\"\u001b[39;49m\u001b[43m)\u001b[49m\n",
      "\u001b[31mIOException\u001b[39m: IO Error: DeltKernel InternalError (31): Internal error Reader features must not be present when minimum reader version = 1 or 2. This is a kernel bug, please report."
     ]
    }
   ],
   "source": [
    "import duckdb\n",
    "\n",
    "# Query the Delta table using DuckDB\n",
    "duckdb.sql(f\"\"\"\n",
    "SELECT * FROM delta_scan('{delta_path}')\n",
    "           \"\"\")\n"
   ]
  },
  {
   "cell_type": "code",
   "execution_count": null,
   "id": "d161d5fc",
   "metadata": {},
   "outputs": [
    {
     "name": "stdout",
     "output_type": "stream",
     "text": [
      "{'numRemovedFile': 3, 'numRestoredFile': 3}\n"
     ]
    },
    {
     "data": {
      "text/html": [
       "<div><style>\n",
       ".dataframe > thead > tr,\n",
       ".dataframe > tbody > tr {\n",
       "  text-align: right;\n",
       "  white-space: pre-wrap;\n",
       "}\n",
       "</style>\n",
       "<small>shape: (3, 3)</small><table border=\"1\" class=\"dataframe\"><thead><tr><th>date</th><th>country</th><th>value</th></tr><tr><td>str</td><td>str</td><td>i64</td></tr></thead><tbody><tr><td>&quot;2023-01-01&quot;</td><td>&quot;US&quot;</td><td>100</td></tr><tr><td>&quot;2023-01-02&quot;</td><td>&quot;CA&quot;</td><td>200</td></tr><tr><td>&quot;2023-01-03&quot;</td><td>&quot;MX&quot;</td><td>300</td></tr></tbody></table></div>"
      ],
      "text/plain": [
       "shape: (3, 3)\n",
       "┌────────────┬─────────┬───────┐\n",
       "│ date       ┆ country ┆ value │\n",
       "│ ---        ┆ ---     ┆ ---   │\n",
       "│ str        ┆ str     ┆ i64   │\n",
       "╞════════════╪═════════╪═══════╡\n",
       "│ 2023-01-01 ┆ US      ┆ 100   │\n",
       "│ 2023-01-02 ┆ CA      ┆ 200   │\n",
       "│ 2023-01-03 ┆ MX      ┆ 300   │\n",
       "└────────────┴─────────┴───────┘"
      ]
     },
     "execution_count": 15,
     "metadata": {},
     "output_type": "execute_result"
    }
   ],
   "source": [
    "# Restore latest version\n",
    "print(dt.restore(target=1))\n",
    "# Verify the restored version\n",
    "pl.scan_delta(delta_path).collect().select(\"date\", \"country\", \"value\").sort(\"date\")"
   ]
  },
  {
   "cell_type": "markdown",
   "id": "e8a1e8a7",
   "metadata": {},
   "source": [
    "The following command will remove all files that are not referenced by Delta versions in history. It will output a list of deleted files, that are not restorable.\n",
    "\n",
    "A `retention_hours` period can be specified, along with `dry_run`. `enforce_retention_duration` needs to be set at False in case `retention_hours` is lower than the Delta default one, which is 168 hours in case not specified differently at Delta creation with `configs` param."
   ]
  },
  {
   "cell_type": "code",
   "execution_count": null,
   "id": "5779c16d",
   "metadata": {},
   "outputs": [
    {
     "data": {
      "text/plain": [
       "['date=2023-01-03/part-00001-a1b7bf07-ab81-42c2-a49e-ea55199794e1-c000.snappy.parquet',\n",
       " 'date=2023-01-02/part-00001-37009a44-ff28-4a00-9e38-3298ddd58c85-c000.snappy.parquet',\n",
       " 'date=2023-01-01/part-00001-e290a568-4289-43ab-b764-a77ee1fc0e25-c000.snappy.parquet']"
      ]
     },
     "execution_count": 11,
     "metadata": {},
     "output_type": "execute_result"
    }
   ],
   "source": [
    "# Vacuum Delta\n",
    "dt.vacuum(retention_hours=0, dry_run=True, enforce_retention_duration=False)"
   ]
  },
  {
   "cell_type": "markdown",
   "id": "bd423dbe",
   "metadata": {},
   "source": [
    "*Optimize* will compact smaller files (think about small insertion) together, so that queries can be speed up by looking at less files."
   ]
  },
  {
   "cell_type": "code",
   "execution_count": null,
   "id": "84c9ec74",
   "metadata": {},
   "outputs": [
    {
     "data": {
      "text/plain": [
       "{'numFilesAdded': 0,\n",
       " 'numFilesRemoved': 0,\n",
       " 'filesAdded': '{\"avg\":0.0,\"max\":0,\"min\":0,\"totalFiles\":0,\"totalSize\":0}',\n",
       " 'filesRemoved': '{\"avg\":0.0,\"max\":0,\"min\":0,\"totalFiles\":0,\"totalSize\":0}',\n",
       " 'partitionsOptimized': 0,\n",
       " 'numBatches': 0,\n",
       " 'totalConsideredFiles': 3,\n",
       " 'totalFilesSkipped': 3,\n",
       " 'preserveInsertionOrder': True}"
      ]
     },
     "execution_count": 13,
     "metadata": {},
     "output_type": "execute_result"
    }
   ],
   "source": [
    "dt.optimize.compact()"
   ]
  },
  {
   "cell_type": "markdown",
   "id": "e378a13e",
   "metadata": {},
   "source": [
    "## Z-Order\n",
    "\n",
    "Z-Order is a way to reorganize data in storage in order to optimize queries. It allows for more data-skipping by colocating relevant files together. Think about it a smart sorting of files based on one or multiple columns"
   ]
  },
  {
   "cell_type": "code",
   "execution_count": null,
   "id": "a4e28323",
   "metadata": {},
   "outputs": [
    {
     "data": {
      "text/plain": [
       "{'numFilesAdded': 3,\n",
       " 'numFilesRemoved': 3,\n",
       " 'filesAdded': '{\"avg\":796.0,\"max\":796,\"min\":796,\"totalFiles\":3,\"totalSize\":2388}',\n",
       " 'filesRemoved': '{\"avg\":766.0,\"max\":766,\"min\":766,\"totalFiles\":3,\"totalSize\":2298}',\n",
       " 'partitionsOptimized': 0,\n",
       " 'numBatches': 3,\n",
       " 'totalConsideredFiles': 3,\n",
       " 'totalFilesSkipped': 0,\n",
       " 'preserveInsertionOrder': True}"
      ]
     },
     "execution_count": 15,
     "metadata": {},
     "output_type": "execute_result"
    }
   ],
   "source": [
    "dt.optimize.z_order(columns=[\"country\"])"
   ]
  },
  {
   "cell_type": "markdown",
   "id": "17f526d9",
   "metadata": {},
   "source": [
    "## Unity Catalog experiments"
   ]
  },
  {
   "cell_type": "code",
   "execution_count": 5,
   "id": "455f29db",
   "metadata": {},
   "outputs": [
    {
     "data": {
      "text/plain": [
       "[CatalogInfo(name='unity', comment='Main catalog', properties={}, options={}, storage_location=None, created_at=datetime.datetime(2024, 7, 17, 18, 40, 5, 334000, tzinfo=datetime.timezone.utc), created_by=None, updated_at=None, updated_by=None)]"
      ]
     },
     "execution_count": 5,
     "metadata": {},
     "output_type": "execute_result"
    }
   ],
   "source": [
    "import polars as pl\n",
    "\n",
    "c = pl.Catalog(workspace_url=\"http://localhost:8080\", require_https=False)\n",
    "c.list_catalogs()"
   ]
  },
  {
   "cell_type": "code",
   "execution_count": 9,
   "id": "d9672770",
   "metadata": {},
   "outputs": [
    {
     "data": {
      "text/plain": [
       "[TableInfo(name='marksheet', comment='Managed table', table_id='c389adfa-5c8f-497b-8f70-26c2cca4976d', table_type='MANAGED', storage_location='file:///home/unitycatalog/etc/data/managed/unity/default/tables/marksheet/', data_source_format='DELTA', columns=[ColumnInfo(name='id', type_name='INT', type_text='int', type_json='{\"name\":\"id\",\"type\":\"integer\",\"nullable\":false,\"metadata\":{}}', position=0, comment='ID primary key', partition_index=None), ColumnInfo(name='name', type_name='STRING', type_text='string', type_json='{\"name\":\"name\",\"type\":\"string\",\"nullable\":false,\"metadata\":{}}', position=1, comment='Name of the entity', partition_index=None), ColumnInfo(name='marks', type_name='INT', type_text='int', type_json='{\"name\":\"marks\",\"type\":\"integer\",\"nullable\":true,\"metadata\":{}}', position=2, comment='Marks of the entity', partition_index=None)], properties={'key2': 'value2', 'key1': 'value1'}, created_at=datetime.datetime(2024, 7, 17, 18, 40, 5, 595000, tzinfo=datetime.timezone.utc), created_by=None, updated_at=datetime.datetime(2024, 7, 17, 18, 40, 5, 595000, tzinfo=datetime.timezone.utc), updated_by=None),\n",
       " TableInfo(name='marksheet_uniform', comment='Uniform table', table_id='9a73eb46-adf0-4457-9bd8-9ab491865e0d', table_type='EXTERNAL', storage_location='file:///tmp/marksheet_uniform', data_source_format='DELTA', columns=[ColumnInfo(name='id', type_name='INT', type_text='int', type_json='{\"name\":\"id\",\"type\":\"integer\",\"nullable\":false,\"metadata\":{}}', position=0, comment='ID primary key', partition_index=None), ColumnInfo(name='name', type_name='STRING', type_text='string', type_json='{\"name\":\"name\",\"type\":\"string\",\"nullable\":false,\"metadata\":{}}', position=1, comment='Name of the entity', partition_index=None), ColumnInfo(name='marks', type_name='INT', type_text='int', type_json='{\"name\":\"marks\",\"type\":\"integer\",\"nullable\":true,\"metadata\":{}}', position=2, comment='Marks of the entity', partition_index=None)], properties={'key2': 'value2', 'key1': 'value1'}, created_at=datetime.datetime(2024, 7, 17, 18, 40, 5, 611000, tzinfo=datetime.timezone.utc), created_by=None, updated_at=datetime.datetime(2024, 7, 17, 18, 40, 5, 611000, tzinfo=datetime.timezone.utc), updated_by=None),\n",
       " TableInfo(name='numbers', comment='External table', table_id='32025924-be53-4d67-ac39-501a86046c01', table_type='EXTERNAL', storage_location='file:///home/unitycatalog/etc/data/external/unity/default/tables/numbers/', data_source_format='DELTA', columns=[ColumnInfo(name='as_int', type_name='INT', type_text='int', type_json='{\"name\":\"as_int\",\"type\":\"integer\",\"nullable\":false,\"metadata\":{}}', position=0, comment='Int column', partition_index=None), ColumnInfo(name='as_double', type_name='DOUBLE', type_text='double', type_json='{\"name\":\"as_double\",\"type\":\"double\",\"nullable\":false,\"metadata\":{}}', position=1, comment='Double column', partition_index=None)], properties={'key2': 'value2', 'key1': 'value1'}, created_at=datetime.datetime(2024, 7, 17, 18, 40, 5, 617000, tzinfo=datetime.timezone.utc), created_by=None, updated_at=datetime.datetime(2024, 7, 17, 18, 40, 5, 617000, tzinfo=datetime.timezone.utc), updated_by=None),\n",
       " TableInfo(name='user_countries', comment='Partitioned table', table_id='26ed93b5-9a18-4726-8ae8-c89dfcfea069', table_type='EXTERNAL', storage_location='file:///home/unitycatalog/etc/data/external/unity/default/tables/user_countries/', data_source_format='DELTA', columns=[ColumnInfo(name='first_name', type_name='STRING', type_text='string', type_json='{\"name\":\"first_name\",\"type\":\"string\",\"nullable\":false,\"metadata\":{}}', position=0, comment='string column', partition_index=None), ColumnInfo(name='age', type_name='LONG', type_text='bigint', type_json='{\"name\":\"age\",\"type\":\"long\",\"nullable\":false,\"metadata\":{}}', position=1, comment='long column', partition_index=None), ColumnInfo(name='country', type_name='STRING', type_text='string', type_json='{\"name\":\"country\",\"type\":\"string\",\"nullable\":false,\"metadata\":{}}', position=2, comment='partition column', partition_index=0)], properties={}, created_at=datetime.datetime(2024, 7, 17, 18, 40, 5, 622000, tzinfo=datetime.timezone.utc), created_by=None, updated_at=datetime.datetime(2024, 7, 17, 18, 40, 5, 622000, tzinfo=datetime.timezone.utc), updated_by=None)]"
      ]
     },
     "execution_count": 9,
     "metadata": {},
     "output_type": "execute_result"
    }
   ],
   "source": [
    "c.list_tables(catalog_name=\"unity\", namespace=\"default\")"
   ]
  },
  {
   "cell_type": "code",
   "execution_count": 13,
   "id": "6def754a",
   "metadata": {},
   "outputs": [],
   "source": [
    "# mock dataframe\n",
    "df = pl.DataFrame({\n",
    "    \"date\": [\"2023-01-01\", \"2023-01-02\", \"2023-01-03\"],\n",
    "    \"country\": [\"US\", \"CA\", \"MX\"],\n",
    "    \"value\": [100, 200, 300],\n",
    "})"
   ]
  },
  {
   "cell_type": "code",
   "execution_count": null,
   "id": "9cbb912c",
   "metadata": {},
   "outputs": [],
   "source": [
    "delta_path = \"\"  # replace with path of choice\n",
    "c.create_table(\n",
    "    catalog_name=\"unity\",\n",
    "    namespace=\"default\",\n",
    "    table_name=\"test_table\",\n",
    "    schema=df.schema,\n",
    "    table_type=\"EXTERNAL\",\n",
    "    data_source_format=\"DELTA\",\n",
    "    storage_root=delta_path,\n",
    ")"
   ]
  },
  {
   "cell_type": "code",
   "execution_count": 21,
   "id": "bfda5b7c",
   "metadata": {},
   "outputs": [],
   "source": [
    "c.write_table(\n",
    "    df=df,\n",
    "    catalog_name=\"unity\",\n",
    "    namespace=\"default\",\n",
    "    delta_mode=\"overwrite\",\n",
    "    table_name=\"test_table\",\n",
    ")"
   ]
  },
  {
   "cell_type": "code",
   "execution_count": null,
   "id": "ca5ccebc",
   "metadata": {},
   "outputs": [
    {
     "data": {
      "text/html": [
       "<div><style>\n",
       ".dataframe > thead > tr,\n",
       ".dataframe > tbody > tr {\n",
       "  text-align: right;\n",
       "  white-space: pre-wrap;\n",
       "}\n",
       "</style>\n",
       "<small>shape: (3, 3)</small><table border=\"1\" class=\"dataframe\"><thead><tr><th>date</th><th>country</th><th>value</th></tr><tr><td>str</td><td>str</td><td>i64</td></tr></thead><tbody><tr><td>&quot;2023-01-01&quot;</td><td>&quot;US&quot;</td><td>100</td></tr><tr><td>&quot;2023-01-02&quot;</td><td>&quot;CA&quot;</td><td>200</td></tr><tr><td>&quot;2023-01-03&quot;</td><td>&quot;MX&quot;</td><td>300</td></tr></tbody></table></div>"
      ],
      "text/plain": [
       "shape: (3, 3)\n",
       "┌────────────┬─────────┬───────┐\n",
       "│ date       ┆ country ┆ value │\n",
       "│ ---        ┆ ---     ┆ ---   │\n",
       "│ str        ┆ str     ┆ i64   │\n",
       "╞════════════╪═════════╪═══════╡\n",
       "│ 2023-01-01 ┆ US      ┆ 100   │\n",
       "│ 2023-01-02 ┆ CA      ┆ 200   │\n",
       "│ 2023-01-03 ┆ MX      ┆ 300   │\n",
       "└────────────┴─────────┴───────┘"
      ]
     },
     "execution_count": 23,
     "metadata": {},
     "output_type": "execute_result"
    }
   ],
   "source": [
    "c.scan_table(\n",
    "    catalog_name=\"unity\", namespace=\"default\", table_name=\"test_table\"\n",
    ").collect()"
   ]
  },
  {
   "cell_type": "code",
   "execution_count": null,
   "id": "bc383a6a",
   "metadata": {},
   "outputs": [
    {
     "data": {
      "text/plain": [
       "┌──────────┬─────────┬─────────┬──────────────┬──────────────┬───────────┐\n",
       "│ database │ schema  │  name   │ column_names │ column_types │ temporary │\n",
       "│ varchar  │ varchar │ varchar │  varchar[]   │  varchar[]   │  boolean  │\n",
       "├──────────┴─────────┴─────────┴──────────────┴──────────────┴───────────┤\n",
       "│                                 0 rows                                 │\n",
       "└────────────────────────────────────────────────────────────────────────┘"
      ]
     },
     "execution_count": 4,
     "metadata": {},
     "output_type": "execute_result"
    }
   ],
   "source": [
    "import duckdb\n",
    "\n",
    "duckdb.sql(\"\"\"\n",
    "INSTALL uc_catalog;\n",
    "INSTALL delta;\n",
    "LOAD delta;\n",
    "LOAD uc_catalog;\n",
    "CREATE OR REPLACE SECRET uc_secret (\n",
    "\tTYPE UC,\n",
    "\tENDPOINT 'http://127.0.0.1:8080',\n",
    "    TOKEN 'not used',\n",
    "    AWS_REGION 'eu-central-1'\n",
    "\n",
    ");\n",
    "ATTACH IF NOT EXISTS 'unity' AS test_catalog (TYPE UC_CATALOG, SECRET uc_secret);\n",
    "SHOW ALL TABLES;\n",
    "\"\"\")"
   ]
  }
 ],
 "metadata": {
  "kernelspec": {
   "display_name": "poor-man-lakehouse",
   "language": "python",
   "name": "python3"
  },
  "language_info": {
   "codemirror_mode": {
    "name": "ipython",
    "version": 3
   },
   "file_extension": ".py",
   "mimetype": "text/x-python",
   "name": "python",
   "nbconvert_exporter": "python",
   "pygments_lexer": "ipython3",
   "version": "3.12.5"
  }
 },
 "nbformat": 4,
 "nbformat_minor": 5
}
