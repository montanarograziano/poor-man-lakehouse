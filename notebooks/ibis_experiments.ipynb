{
 "cells": [
  {
   "cell_type": "code",
   "execution_count": null,
   "id": "8c4f0f2b",
   "metadata": {},
   "outputs": [],
   "source": [
    "from poor_man_lakehouse import DremioConnection\n",
    "from poor_man_lakehouse import IbisConnection\n",
    "\n",
    "d = DremioConnection()\n",
    "\n",
    "conn = IbisConnection()"
   ]
  },
  {
   "cell_type": "code",
   "execution_count": null,
   "id": "2d645067",
   "metadata": {},
   "outputs": [],
   "source": [
    "print(conn.connections[\"duckdb\"].list_catalogs())\n",
    "print(conn.connections[\"duckdb\"].list_databases(catalog=\"memory\"))\n",
    "print(conn.connections[\"duckdb\"].list_tables(database=\"default\"))"
   ]
  },
  {
   "cell_type": "code",
   "execution_count": null,
   "id": "4e1adc26",
   "metadata": {},
   "outputs": [],
   "source": [
    "conn.set_current_database(\"default\", \"duckdb\")"
   ]
  },
  {
   "cell_type": "code",
   "execution_count": null,
   "id": "fbdcfac7",
   "metadata": {},
   "outputs": [],
   "source": [
    "polars_table = conn.read_table(\"default\", \"prova\", \"polars\")\n",
    "polars_table.execute()"
   ]
  },
  {
   "cell_type": "code",
   "execution_count": null,
   "id": "48a683df",
   "metadata": {},
   "outputs": [],
   "source": [
    "conn.sql(\"select * from default.prova\", \"duckdb\").execute()"
   ]
  },
  {
   "cell_type": "code",
   "execution_count": null,
   "id": "b49c014c",
   "metadata": {},
   "outputs": [],
   "source": [
    "polars_table.select(\"datetime\", \"symbol\").filter(\n",
    "    polars_table[\"symbol\"] == \"AAPL\"\n",
    ").execute()\n"
   ]
  },
  {
   "cell_type": "code",
   "execution_count": null,
   "id": "d17150d2",
   "metadata": {},
   "outputs": [],
   "source": [
    "pyspark_table = conn.read_table(\"default\", \"prova\", \"pyspark\")\n",
    "pyspark_table.execute()"
   ]
  },
  {
   "cell_type": "code",
   "execution_count": null,
   "id": "a3ad774c",
   "metadata": {},
   "outputs": [],
   "source": [
    "pyspark_table.select(\"datetime\", \"symbol\").filter(\n",
    "    pyspark_table[\"symbol\"] == \"AAPL\"\n",
    ").execute()\n"
   ]
  },
  {
   "cell_type": "code",
   "execution_count": null,
   "id": "8dbfba61",
   "metadata": {},
   "outputs": [],
   "source": [
    "pyspark_table.sql(\"\"\"SELECT * FROM prova WHERE symbol = 'AAPL'\"\"\").execute()"
   ]
  },
  {
   "cell_type": "code",
   "execution_count": null,
   "id": "1d55ccfd",
   "metadata": {},
   "outputs": [],
   "source": [
    "conn.list_tables(\"polars\")"
   ]
  },
  {
   "cell_type": "code",
   "execution_count": null,
   "id": "18467df9",
   "metadata": {},
   "outputs": [],
   "source": [
    "conn._fix_polars_table_name(\"select * from default.prova join default.prova2 on default.prova.id = default.prova2.id\")"
   ]
  },
  {
   "cell_type": "code",
   "execution_count": null,
   "id": "f5d406bf",
   "metadata": {},
   "outputs": [],
   "source": [
    "conn.sql(\"select * from default.prova\", \"polars\").execute()"
   ]
  },
  {
   "cell_type": "code",
   "execution_count": null,
   "id": "1b8a870c",
   "metadata": {},
   "outputs": [],
   "source": []
  }
 ],
 "metadata": {
  "kernelspec": {
   "display_name": "poor-man-lakehouse",
   "language": "python",
   "name": "python3"
  },
  "language_info": {
   "codemirror_mode": {
    "name": "ipython",
    "version": 3
   },
   "file_extension": ".py",
   "mimetype": "text/x-python",
   "name": "python",
   "nbconvert_exporter": "python",
   "pygments_lexer": "ipython3",
   "version": "3.12.5"
  }
 },
 "nbformat": 4,
 "nbformat_minor": 5
}
