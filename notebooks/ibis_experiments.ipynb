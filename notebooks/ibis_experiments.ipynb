{
 "cells": [
  {
   "cell_type": "code",
   "execution_count": 1,
   "id": "8c4f0f2b",
   "metadata": {},
   "outputs": [
    {
     "name": "stderr",
     "output_type": "stream",
     "text": [
      "/Users/graziano/GitHub/poor-man-lakehouse/.venv/lib/python3.12/site-packages/pyspark/sql/pandas/functions.py:407: UserWarning: In Python 3.6+ and Spark 3.0+, it is preferred to specify type hints for pandas UDF instead of specifying pandas UDF type which will be deprecated in the future releases. See SPARK-28264 for more details.\n",
      "  warnings.warn(\n",
      "25/09/06 20:33:22 WARN Utils: Your hostname, MacBookPro.homenet.telecomitalia.it resolves to a loopback address: 127.0.0.1; using 192.168.1.81 instead (on interface en0)\n",
      "25/09/06 20:33:22 WARN Utils: Set SPARK_LOCAL_IP if you need to bind to another address\n",
      "Ivy Default Cache set to: /Users/graziano/.ivy2/cache\n",
      "The jars for the packages stored in: /Users/graziano/.ivy2/jars\n",
      "org.apache.iceberg#iceberg-spark-runtime-3.5_2.13 added as a dependency\n",
      "org.projectnessie.nessie-integrations#nessie-spark-extensions-3.5_2.13 added as a dependency\n",
      "org.apache.iceberg#iceberg-aws-bundle added as a dependency\n",
      ":: resolving dependencies :: org.apache.spark#spark-submit-parent-62fcf9dc-48c7-40f5-a02b-9cef9efbcab1;1.0\n",
      "\tconfs: [default]\n"
     ]
    },
    {
     "name": "stdout",
     "output_type": "stream",
     "text": [
      ":: loading settings :: url = jar:file:/opt/homebrew/Cellar/apache-spark/3.5.6/jars/ivy-2.5.1.jar!/org/apache/ivy/core/settings/ivysettings.xml\n"
     ]
    },
    {
     "name": "stderr",
     "output_type": "stream",
     "text": [
      "\tfound org.apache.iceberg#iceberg-spark-runtime-3.5_2.13;1.9.2 in central\n",
      "\tfound org.projectnessie.nessie-integrations#nessie-spark-extensions-3.5_2.13;0.103.3 in central\n",
      "\tfound org.apache.iceberg#iceberg-aws-bundle;1.9.2 in central\n",
      ":: resolution report :: resolve 86ms :: artifacts dl 4ms\n",
      "\t:: modules in use:\n",
      "\torg.apache.iceberg#iceberg-aws-bundle;1.9.2 from central in [default]\n",
      "\torg.apache.iceberg#iceberg-spark-runtime-3.5_2.13;1.9.2 from central in [default]\n",
      "\torg.projectnessie.nessie-integrations#nessie-spark-extensions-3.5_2.13;0.103.3 from central in [default]\n",
      "\t---------------------------------------------------------------------\n",
      "\t|                  |            modules            ||   artifacts   |\n",
      "\t|       conf       | number| search|dwnlded|evicted|| number|dwnlded|\n",
      "\t---------------------------------------------------------------------\n",
      "\t|      default     |   3   |   0   |   0   |   0   ||   3   |   0   |\n",
      "\t---------------------------------------------------------------------\n",
      ":: retrieving :: org.apache.spark#spark-submit-parent-62fcf9dc-48c7-40f5-a02b-9cef9efbcab1\n",
      "\tconfs: [default]\n",
      "\t0 artifacts copied, 3 already retrieved (0kB/2ms)\n",
      "25/09/06 20:33:23 WARN NativeCodeLoader: Unable to load native-hadoop library for your platform... using builtin-java classes where applicable\n",
      "Setting default log level to \"WARN\".\n",
      "To adjust logging level use sc.setLogLevel(newLevel). For SparkR, use setLogLevel(newLevel).\n",
      "\u001b[32m2025-09-06 20:33:26.111\u001b[0m | \u001b[1mINFO    \u001b[0m | \u001b[36mpoor_man_lakehouse.dremio.builder\u001b[0m:\u001b[36m_initialize_dremio\u001b[0m:\u001b[36m109\u001b[0m - \u001b[1mInitializing Dremio setup...\u001b[0m\n",
      "\u001b[32m2025-09-06 20:33:26.327\u001b[0m | \u001b[1mINFO    \u001b[0m | \u001b[36mpoor_man_lakehouse.dremio.builder\u001b[0m:\u001b[36m_initialize_dremio\u001b[0m:\u001b[36m115\u001b[0m - \u001b[1mAdmin user authentication successful\u001b[0m\n",
      "\u001b[32m2025-09-06 20:33:26.439\u001b[0m | \u001b[1mINFO    \u001b[0m | \u001b[36mpoor_man_lakehouse.dremio.builder\u001b[0m:\u001b[36m_ensure_nessie_catalog\u001b[0m:\u001b[36m204\u001b[0m - \u001b[1mNessie catalog 'nessie' already exists\u001b[0m\n"
     ]
    }
   ],
   "source": [
    "from poor_man_lakehouse import DremioConnection\n",
    "from poor_man_lakehouse import IbisConnection\n",
    "\n",
    "d = DremioConnection()\n",
    "\n",
    "conn = IbisConnection()"
   ]
  },
  {
   "cell_type": "code",
   "execution_count": 2,
   "id": "2d645067",
   "metadata": {},
   "outputs": [
    {
     "name": "stdout",
     "output_type": "stream",
     "text": [
      "['memory', 'system', 'temp']\n",
      "['main']\n",
      "[]\n"
     ]
    }
   ],
   "source": [
    "print(conn.connections[\"duckdb\"].list_catalogs())\n",
    "print(conn.connections[\"duckdb\"].list_databases(catalog=\"memory\"))\n",
    "print(conn.connections[\"duckdb\"].list_tables(database=\"default\"))"
   ]
  },
  {
   "cell_type": "code",
   "execution_count": 3,
   "id": "4e1adc26",
   "metadata": {},
   "outputs": [],
   "source": [
    "conn.set_current_database(\"default\", \"duckdb\")"
   ]
  },
  {
   "cell_type": "code",
   "execution_count": 4,
   "id": "fbdcfac7",
   "metadata": {},
   "outputs": [
    {
     "data": {
      "application/vnd.microsoft.datawrangler.viewer.v0+json": {
       "columns": [
        {
         "name": "index",
         "rawType": "int64",
         "type": "integer"
        },
        {
         "name": "datetime",
         "rawType": "datetime64[us, UTC]",
         "type": "unknown"
        },
        {
         "name": "symbol",
         "rawType": "object",
         "type": "string"
        },
        {
         "name": "bid",
         "rawType": "float64",
         "type": "float"
        },
        {
         "name": "ask",
         "rawType": "float64",
         "type": "float"
        },
        {
         "name": "details",
         "rawType": "object",
         "type": "unknown"
        }
       ],
       "ref": "70812282-7167-4d12-bc1c-44628406b412",
       "rows": [
        [
         "0",
         "2023-01-01 11:00:00+00:00",
         "AAPL",
         "150.0",
         "151.0",
         "[{'key': 'created_by', 'value': 'user1'}]"
        ],
        [
         "1",
         "2023-01-02 11:00:00+00:00",
         "GOOGL",
         "2800.0",
         "2805.0",
         "[{'key': 'created_by', 'value': 'user2'}]"
        ],
        [
         "2",
         "2023-01-03 11:00:00+00:00",
         "MSFT",
         "300.0",
         "305.0",
         "[{'key': 'created_by', 'value': None}]"
        ]
       ],
       "shape": {
        "columns": 5,
        "rows": 3
       }
      },
      "text/html": [
       "<div>\n",
       "<style scoped>\n",
       "    .dataframe tbody tr th:only-of-type {\n",
       "        vertical-align: middle;\n",
       "    }\n",
       "\n",
       "    .dataframe tbody tr th {\n",
       "        vertical-align: top;\n",
       "    }\n",
       "\n",
       "    .dataframe thead th {\n",
       "        text-align: right;\n",
       "    }\n",
       "</style>\n",
       "<table border=\"1\" class=\"dataframe\">\n",
       "  <thead>\n",
       "    <tr style=\"text-align: right;\">\n",
       "      <th></th>\n",
       "      <th>datetime</th>\n",
       "      <th>symbol</th>\n",
       "      <th>bid</th>\n",
       "      <th>ask</th>\n",
       "      <th>details</th>\n",
       "    </tr>\n",
       "  </thead>\n",
       "  <tbody>\n",
       "    <tr>\n",
       "      <th>0</th>\n",
       "      <td>2023-01-01 11:00:00+00:00</td>\n",
       "      <td>AAPL</td>\n",
       "      <td>150.0</td>\n",
       "      <td>151.0</td>\n",
       "      <td>[{'key': 'created_by', 'value': 'user1'}]</td>\n",
       "    </tr>\n",
       "    <tr>\n",
       "      <th>1</th>\n",
       "      <td>2023-01-02 11:00:00+00:00</td>\n",
       "      <td>GOOGL</td>\n",
       "      <td>2800.0</td>\n",
       "      <td>2805.0</td>\n",
       "      <td>[{'key': 'created_by', 'value': 'user2'}]</td>\n",
       "    </tr>\n",
       "    <tr>\n",
       "      <th>2</th>\n",
       "      <td>2023-01-03 11:00:00+00:00</td>\n",
       "      <td>MSFT</td>\n",
       "      <td>300.0</td>\n",
       "      <td>305.0</td>\n",
       "      <td>[{'key': 'created_by', 'value': None}]</td>\n",
       "    </tr>\n",
       "  </tbody>\n",
       "</table>\n",
       "</div>"
      ],
      "text/plain": [
       "                   datetime symbol     bid     ask  \\\n",
       "0 2023-01-01 11:00:00+00:00   AAPL   150.0   151.0   \n",
       "1 2023-01-02 11:00:00+00:00  GOOGL  2800.0  2805.0   \n",
       "2 2023-01-03 11:00:00+00:00   MSFT   300.0   305.0   \n",
       "\n",
       "                                     details  \n",
       "0  [{'key': 'created_by', 'value': 'user1'}]  \n",
       "1  [{'key': 'created_by', 'value': 'user2'}]  \n",
       "2     [{'key': 'created_by', 'value': None}]  "
      ]
     },
     "execution_count": 4,
     "metadata": {},
     "output_type": "execute_result"
    }
   ],
   "source": [
    "polars_table = conn.read_table(\"default\", \"prova\", \"polars\")\n",
    "polars_table.execute()"
   ]
  },
  {
   "cell_type": "code",
   "execution_count": 5,
   "id": "48a683df",
   "metadata": {},
   "outputs": [
    {
     "data": {
      "application/vnd.microsoft.datawrangler.viewer.v0+json": {
       "columns": [
        {
         "name": "index",
         "rawType": "int64",
         "type": "integer"
        },
        {
         "name": "datetime",
         "rawType": "datetime64[us, UTC]",
         "type": "unknown"
        },
        {
         "name": "symbol",
         "rawType": "object",
         "type": "string"
        },
        {
         "name": "bid",
         "rawType": "float64",
         "type": "float"
        },
        {
         "name": "ask",
         "rawType": "float64",
         "type": "float"
        },
        {
         "name": "details",
         "rawType": "object",
         "type": "unknown"
        }
       ],
       "ref": "7adb185c-eba6-46dd-88ae-cc1e4a8fb46f",
       "rows": [
        [
         "0",
         "2023-01-01 11:00:00+00:00",
         "AAPL",
         "150.0",
         "151.0",
         "[{'key': 'created_by', 'value': 'user1'}]"
        ],
        [
         "1",
         "2023-01-02 11:00:00+00:00",
         "GOOGL",
         "2800.0",
         "2805.0",
         "[{'key': 'created_by', 'value': 'user2'}]"
        ],
        [
         "2",
         "2023-01-03 11:00:00+00:00",
         "MSFT",
         "300.0",
         "305.0",
         "[{'key': 'created_by', 'value': None}]"
        ]
       ],
       "shape": {
        "columns": 5,
        "rows": 3
       }
      },
      "text/html": [
       "<div>\n",
       "<style scoped>\n",
       "    .dataframe tbody tr th:only-of-type {\n",
       "        vertical-align: middle;\n",
       "    }\n",
       "\n",
       "    .dataframe tbody tr th {\n",
       "        vertical-align: top;\n",
       "    }\n",
       "\n",
       "    .dataframe thead th {\n",
       "        text-align: right;\n",
       "    }\n",
       "</style>\n",
       "<table border=\"1\" class=\"dataframe\">\n",
       "  <thead>\n",
       "    <tr style=\"text-align: right;\">\n",
       "      <th></th>\n",
       "      <th>datetime</th>\n",
       "      <th>symbol</th>\n",
       "      <th>bid</th>\n",
       "      <th>ask</th>\n",
       "      <th>details</th>\n",
       "    </tr>\n",
       "  </thead>\n",
       "  <tbody>\n",
       "    <tr>\n",
       "      <th>0</th>\n",
       "      <td>2023-01-01 11:00:00+00:00</td>\n",
       "      <td>AAPL</td>\n",
       "      <td>150.0</td>\n",
       "      <td>151.0</td>\n",
       "      <td>[{'key': 'created_by', 'value': 'user1'}]</td>\n",
       "    </tr>\n",
       "    <tr>\n",
       "      <th>1</th>\n",
       "      <td>2023-01-02 11:00:00+00:00</td>\n",
       "      <td>GOOGL</td>\n",
       "      <td>2800.0</td>\n",
       "      <td>2805.0</td>\n",
       "      <td>[{'key': 'created_by', 'value': 'user2'}]</td>\n",
       "    </tr>\n",
       "    <tr>\n",
       "      <th>2</th>\n",
       "      <td>2023-01-03 11:00:00+00:00</td>\n",
       "      <td>MSFT</td>\n",
       "      <td>300.0</td>\n",
       "      <td>305.0</td>\n",
       "      <td>[{'key': 'created_by', 'value': None}]</td>\n",
       "    </tr>\n",
       "  </tbody>\n",
       "</table>\n",
       "</div>"
      ],
      "text/plain": [
       "                   datetime symbol     bid     ask  \\\n",
       "0 2023-01-01 11:00:00+00:00   AAPL   150.0   151.0   \n",
       "1 2023-01-02 11:00:00+00:00  GOOGL  2800.0  2805.0   \n",
       "2 2023-01-03 11:00:00+00:00   MSFT   300.0   305.0   \n",
       "\n",
       "                                     details  \n",
       "0  [{'key': 'created_by', 'value': 'user1'}]  \n",
       "1  [{'key': 'created_by', 'value': 'user2'}]  \n",
       "2     [{'key': 'created_by', 'value': None}]  "
      ]
     },
     "execution_count": 5,
     "metadata": {},
     "output_type": "execute_result"
    }
   ],
   "source": [
    "conn.sql(\"select * from default.prova\", \"duckdb\").execute()"
   ]
  },
  {
   "cell_type": "code",
   "execution_count": 6,
   "id": "b49c014c",
   "metadata": {},
   "outputs": [
    {
     "data": {
      "application/vnd.microsoft.datawrangler.viewer.v0+json": {
       "columns": [
        {
         "name": "index",
         "rawType": "int64",
         "type": "integer"
        },
        {
         "name": "datetime",
         "rawType": "datetime64[us, UTC]",
         "type": "unknown"
        },
        {
         "name": "symbol",
         "rawType": "object",
         "type": "string"
        }
       ],
       "ref": "5c485dc8-3561-424a-8100-7b6ede478788",
       "rows": [
        [
         "0",
         "2023-01-01 11:00:00+00:00",
         "AAPL"
        ]
       ],
       "shape": {
        "columns": 2,
        "rows": 1
       }
      },
      "text/html": [
       "<div>\n",
       "<style scoped>\n",
       "    .dataframe tbody tr th:only-of-type {\n",
       "        vertical-align: middle;\n",
       "    }\n",
       "\n",
       "    .dataframe tbody tr th {\n",
       "        vertical-align: top;\n",
       "    }\n",
       "\n",
       "    .dataframe thead th {\n",
       "        text-align: right;\n",
       "    }\n",
       "</style>\n",
       "<table border=\"1\" class=\"dataframe\">\n",
       "  <thead>\n",
       "    <tr style=\"text-align: right;\">\n",
       "      <th></th>\n",
       "      <th>datetime</th>\n",
       "      <th>symbol</th>\n",
       "    </tr>\n",
       "  </thead>\n",
       "  <tbody>\n",
       "    <tr>\n",
       "      <th>0</th>\n",
       "      <td>2023-01-01 11:00:00+00:00</td>\n",
       "      <td>AAPL</td>\n",
       "    </tr>\n",
       "  </tbody>\n",
       "</table>\n",
       "</div>"
      ],
      "text/plain": [
       "                   datetime symbol\n",
       "0 2023-01-01 11:00:00+00:00   AAPL"
      ]
     },
     "execution_count": 6,
     "metadata": {},
     "output_type": "execute_result"
    }
   ],
   "source": [
    "polars_table.select(\"datetime\", \"symbol\").filter(\n",
    "    polars_table[\"symbol\"] == \"AAPL\"\n",
    ").execute()\n"
   ]
  },
  {
   "cell_type": "code",
   "execution_count": 7,
   "id": "d17150d2",
   "metadata": {},
   "outputs": [
    {
     "name": "stderr",
     "output_type": "stream",
     "text": [
      "/Users/graziano/GitHub/poor-man-lakehouse/.venv/lib/python3.12/site-packages/pyspark/sql/pandas/functions.py:407: UserWarning: In Python 3.6+ and Spark 3.0+, it is preferred to specify type hints for pandas UDF instead of specifying pandas UDF type which will be deprecated in the future releases. See SPARK-28264 for more details.\n",
      "  warnings.warn(\n",
      "                                                                                \r"
     ]
    },
    {
     "data": {
      "application/vnd.microsoft.datawrangler.viewer.v0+json": {
       "columns": [
        {
         "name": "index",
         "rawType": "int64",
         "type": "integer"
        },
        {
         "name": "datetime",
         "rawType": "datetime64[ns]",
         "type": "datetime"
        },
        {
         "name": "symbol",
         "rawType": "object",
         "type": "string"
        },
        {
         "name": "bid",
         "rawType": "float64",
         "type": "float"
        },
        {
         "name": "ask",
         "rawType": "float64",
         "type": "float"
        },
        {
         "name": "details",
         "rawType": "object",
         "type": "unknown"
        }
       ],
       "ref": "b978acf2-cc09-45f1-a0a2-9dc3bc41df9b",
       "rows": [
        [
         "0",
         "2023-01-01 11:00:00",
         "AAPL",
         "150.0",
         "151.0",
         "{'created_by': 'user1'}"
        ],
        [
         "1",
         "2023-01-02 11:00:00",
         "GOOGL",
         "2800.0",
         "2805.0",
         "{'created_by': 'user2'}"
        ],
        [
         "2",
         "2023-01-03 11:00:00",
         "MSFT",
         "300.0",
         "305.0",
         "{'created_by': None}"
        ]
       ],
       "shape": {
        "columns": 5,
        "rows": 3
       }
      },
      "text/html": [
       "<div>\n",
       "<style scoped>\n",
       "    .dataframe tbody tr th:only-of-type {\n",
       "        vertical-align: middle;\n",
       "    }\n",
       "\n",
       "    .dataframe tbody tr th {\n",
       "        vertical-align: top;\n",
       "    }\n",
       "\n",
       "    .dataframe thead th {\n",
       "        text-align: right;\n",
       "    }\n",
       "</style>\n",
       "<table border=\"1\" class=\"dataframe\">\n",
       "  <thead>\n",
       "    <tr style=\"text-align: right;\">\n",
       "      <th></th>\n",
       "      <th>datetime</th>\n",
       "      <th>symbol</th>\n",
       "      <th>bid</th>\n",
       "      <th>ask</th>\n",
       "      <th>details</th>\n",
       "    </tr>\n",
       "  </thead>\n",
       "  <tbody>\n",
       "    <tr>\n",
       "      <th>0</th>\n",
       "      <td>2023-01-01 11:00:00</td>\n",
       "      <td>AAPL</td>\n",
       "      <td>150.0</td>\n",
       "      <td>151.0</td>\n",
       "      <td>{'created_by': 'user1'}</td>\n",
       "    </tr>\n",
       "    <tr>\n",
       "      <th>1</th>\n",
       "      <td>2023-01-02 11:00:00</td>\n",
       "      <td>GOOGL</td>\n",
       "      <td>2800.0</td>\n",
       "      <td>2805.0</td>\n",
       "      <td>{'created_by': 'user2'}</td>\n",
       "    </tr>\n",
       "    <tr>\n",
       "      <th>2</th>\n",
       "      <td>2023-01-03 11:00:00</td>\n",
       "      <td>MSFT</td>\n",
       "      <td>300.0</td>\n",
       "      <td>305.0</td>\n",
       "      <td>{'created_by': None}</td>\n",
       "    </tr>\n",
       "  </tbody>\n",
       "</table>\n",
       "</div>"
      ],
      "text/plain": [
       "             datetime symbol     bid     ask                  details\n",
       "0 2023-01-01 11:00:00   AAPL   150.0   151.0  {'created_by': 'user1'}\n",
       "1 2023-01-02 11:00:00  GOOGL  2800.0  2805.0  {'created_by': 'user2'}\n",
       "2 2023-01-03 11:00:00   MSFT   300.0   305.0     {'created_by': None}"
      ]
     },
     "execution_count": 7,
     "metadata": {},
     "output_type": "execute_result"
    }
   ],
   "source": [
    "pyspark_table = conn.read_table(\"default\", \"prova\", \"pyspark\")\n",
    "pyspark_table.execute()"
   ]
  },
  {
   "cell_type": "code",
   "execution_count": 8,
   "id": "a3ad774c",
   "metadata": {},
   "outputs": [
    {
     "name": "stderr",
     "output_type": "stream",
     "text": [
      "/Users/graziano/GitHub/poor-man-lakehouse/.venv/lib/python3.12/site-packages/pyspark/sql/pandas/functions.py:407: UserWarning: In Python 3.6+ and Spark 3.0+, it is preferred to specify type hints for pandas UDF instead of specifying pandas UDF type which will be deprecated in the future releases. See SPARK-28264 for more details.\n",
      "  warnings.warn(\n",
      "25/09/06 20:33:31 WARN SimpleFunctionRegistry: The function unwrap_json_str replaced a previously registered function.\n",
      "25/09/06 20:33:31 WARN SimpleFunctionRegistry: The function unwrap_json_int replaced a previously registered function.\n",
      "25/09/06 20:33:31 WARN SimpleFunctionRegistry: The function unwrap_json_bool replaced a previously registered function.\n",
      "25/09/06 20:33:31 WARN SimpleFunctionRegistry: The function unwrap_json_float replaced a previously registered function.\n"
     ]
    },
    {
     "data": {
      "application/vnd.microsoft.datawrangler.viewer.v0+json": {
       "columns": [
        {
         "name": "index",
         "rawType": "int64",
         "type": "integer"
        },
        {
         "name": "datetime",
         "rawType": "datetime64[ns]",
         "type": "datetime"
        },
        {
         "name": "symbol",
         "rawType": "object",
         "type": "string"
        }
       ],
       "ref": "b678dabd-629a-4645-a6f2-8608b6d7d97c",
       "rows": [
        [
         "0",
         "2023-01-01 11:00:00",
         "AAPL"
        ]
       ],
       "shape": {
        "columns": 2,
        "rows": 1
       }
      },
      "text/html": [
       "<div>\n",
       "<style scoped>\n",
       "    .dataframe tbody tr th:only-of-type {\n",
       "        vertical-align: middle;\n",
       "    }\n",
       "\n",
       "    .dataframe tbody tr th {\n",
       "        vertical-align: top;\n",
       "    }\n",
       "\n",
       "    .dataframe thead th {\n",
       "        text-align: right;\n",
       "    }\n",
       "</style>\n",
       "<table border=\"1\" class=\"dataframe\">\n",
       "  <thead>\n",
       "    <tr style=\"text-align: right;\">\n",
       "      <th></th>\n",
       "      <th>datetime</th>\n",
       "      <th>symbol</th>\n",
       "    </tr>\n",
       "  </thead>\n",
       "  <tbody>\n",
       "    <tr>\n",
       "      <th>0</th>\n",
       "      <td>2023-01-01 11:00:00</td>\n",
       "      <td>AAPL</td>\n",
       "    </tr>\n",
       "  </tbody>\n",
       "</table>\n",
       "</div>"
      ],
      "text/plain": [
       "             datetime symbol\n",
       "0 2023-01-01 11:00:00   AAPL"
      ]
     },
     "execution_count": 8,
     "metadata": {},
     "output_type": "execute_result"
    }
   ],
   "source": [
    "pyspark_table.select(\"datetime\", \"symbol\").filter(\n",
    "    pyspark_table[\"symbol\"] == \"AAPL\"\n",
    ").execute()\n"
   ]
  },
  {
   "cell_type": "code",
   "execution_count": 9,
   "id": "8dbfba61",
   "metadata": {},
   "outputs": [
    {
     "name": "stderr",
     "output_type": "stream",
     "text": [
      "/Users/graziano/GitHub/poor-man-lakehouse/.venv/lib/python3.12/site-packages/pyspark/sql/pandas/functions.py:407: UserWarning: In Python 3.6+ and Spark 3.0+, it is preferred to specify type hints for pandas UDF instead of specifying pandas UDF type which will be deprecated in the future releases. See SPARK-28264 for more details.\n",
      "  warnings.warn(\n",
      "25/09/06 20:33:31 WARN SimpleFunctionRegistry: The function unwrap_json_str replaced a previously registered function.\n",
      "25/09/06 20:33:31 WARN SimpleFunctionRegistry: The function unwrap_json_int replaced a previously registered function.\n",
      "25/09/06 20:33:31 WARN SimpleFunctionRegistry: The function unwrap_json_bool replaced a previously registered function.\n",
      "25/09/06 20:33:31 WARN SimpleFunctionRegistry: The function unwrap_json_float replaced a previously registered function.\n"
     ]
    },
    {
     "data": {
      "application/vnd.microsoft.datawrangler.viewer.v0+json": {
       "columns": [
        {
         "name": "index",
         "rawType": "int64",
         "type": "integer"
        },
        {
         "name": "datetime",
         "rawType": "datetime64[ns]",
         "type": "datetime"
        },
        {
         "name": "symbol",
         "rawType": "object",
         "type": "string"
        },
        {
         "name": "bid",
         "rawType": "float64",
         "type": "float"
        },
        {
         "name": "ask",
         "rawType": "float64",
         "type": "float"
        },
        {
         "name": "details",
         "rawType": "object",
         "type": "unknown"
        }
       ],
       "ref": "494d4733-4758-4d44-844e-54cdf16d82c9",
       "rows": [
        [
         "0",
         "2023-01-01 11:00:00",
         "AAPL",
         "150.0",
         "151.0",
         "{'created_by': 'user1'}"
        ]
       ],
       "shape": {
        "columns": 5,
        "rows": 1
       }
      },
      "text/html": [
       "<div>\n",
       "<style scoped>\n",
       "    .dataframe tbody tr th:only-of-type {\n",
       "        vertical-align: middle;\n",
       "    }\n",
       "\n",
       "    .dataframe tbody tr th {\n",
       "        vertical-align: top;\n",
       "    }\n",
       "\n",
       "    .dataframe thead th {\n",
       "        text-align: right;\n",
       "    }\n",
       "</style>\n",
       "<table border=\"1\" class=\"dataframe\">\n",
       "  <thead>\n",
       "    <tr style=\"text-align: right;\">\n",
       "      <th></th>\n",
       "      <th>datetime</th>\n",
       "      <th>symbol</th>\n",
       "      <th>bid</th>\n",
       "      <th>ask</th>\n",
       "      <th>details</th>\n",
       "    </tr>\n",
       "  </thead>\n",
       "  <tbody>\n",
       "    <tr>\n",
       "      <th>0</th>\n",
       "      <td>2023-01-01 11:00:00</td>\n",
       "      <td>AAPL</td>\n",
       "      <td>150.0</td>\n",
       "      <td>151.0</td>\n",
       "      <td>{'created_by': 'user1'}</td>\n",
       "    </tr>\n",
       "  </tbody>\n",
       "</table>\n",
       "</div>"
      ],
      "text/plain": [
       "             datetime symbol    bid    ask                  details\n",
       "0 2023-01-01 11:00:00   AAPL  150.0  151.0  {'created_by': 'user1'}"
      ]
     },
     "execution_count": 9,
     "metadata": {},
     "output_type": "execute_result"
    }
   ],
   "source": [
    "pyspark_table.sql(\"\"\"SELECT * FROM prova WHERE symbol = 'AAPL'\"\"\").execute()"
   ]
  }
 ],
 "metadata": {
  "kernelspec": {
   "display_name": "poor-man-lakehouse",
   "language": "python",
   "name": "python3"
  },
  "language_info": {
   "codemirror_mode": {
    "name": "ipython",
    "version": 3
   },
   "file_extension": ".py",
   "mimetype": "text/x-python",
   "name": "python",
   "nbconvert_exporter": "python",
   "pygments_lexer": "ipython3",
   "version": "3.12.5"
  }
 },
 "nbformat": 4,
 "nbformat_minor": 5
}
