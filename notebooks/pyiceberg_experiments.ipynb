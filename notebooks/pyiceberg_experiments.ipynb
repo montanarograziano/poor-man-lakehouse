{
 "cells": [
  {
   "cell_type": "markdown",
   "id": "308570c7",
   "metadata": {},
   "source": [
    "# Experimenting with PyIceberg\n",
    "\n",
    "This notebooks serves as experimenting snippes with PyIceberg capabilities. It will include:\n",
    "\n",
    "- Read operations\n",
    "- Write operations (MERGE, write Hive partitioned, partition overwrite etc.)"
   ]
  },
  {
   "cell_type": "markdown",
   "id": "0996cc3f",
   "metadata": {},
   "source": [
    "For demo purposes, we'll follow the example provided in the documentation [here](https://py.iceberg.apache.org/api/), so we'll create a local catalog, some tables and perform operations.\n",
    "\n",
    "Everytime the notebook is executed, we'll recreate the warehouse folder so that we don't get errors in `load_catalog` function (CREATE IF NOT EXISTS seems not to be supported)."
   ]
  },
  {
   "cell_type": "markdown",
   "id": "f280c927",
   "metadata": {},
   "source": [
    "## Connect to Nessie Catalog"
   ]
  },
  {
   "cell_type": "code",
   "execution_count": 1,
   "id": "d0402d3b",
   "metadata": {},
   "outputs": [],
   "source": [
    "from pyiceberg.catalog import load_catalog\n",
    "from poor_man_lakehouse.config import settings\n",
    "\n",
    "catalog_config = settings.ICEBERG_STORAGE_OPTIONS | {\n",
    "    \"type\": \"rest\",\n",
    "    \"uri\": settings.NESSIE_PYICEBERG_SERVER_URI,\n",
    "}\n",
    "catalog = load_catalog(\"nessie\", **catalog_config)\n"
   ]
  },
  {
   "cell_type": "code",
   "execution_count": 2,
   "id": "cd3f8c66",
   "metadata": {},
   "outputs": [
    {
     "name": "stdout",
     "output_type": "stream",
     "text": [
      "[('default',)]\n"
     ]
    }
   ],
   "source": [
    "print(catalog.list_namespaces())\n",
    "if (\"default\",) not in catalog.list_namespaces():\n",
    "    catalog.create_namespace(\"default\")\n",
    "\n",
    "ns = catalog.list_namespaces()"
   ]
  },
  {
   "cell_type": "code",
   "execution_count": 3,
   "id": "16d1a745",
   "metadata": {},
   "outputs": [
    {
     "data": {
      "text/plain": [
       "[('default', 'people'), ('default', 'prova')]"
      ]
     },
     "execution_count": 3,
     "metadata": {},
     "output_type": "execute_result"
    }
   ],
   "source": [
    "catalog.list_tables(\"default\")"
   ]
  },
  {
   "cell_type": "markdown",
   "id": "a85a80fc",
   "metadata": {},
   "source": [
    "## Create a table"
   ]
  },
  {
   "cell_type": "code",
   "execution_count": 4,
   "id": "bf3aaa22",
   "metadata": {},
   "outputs": [],
   "source": [
    "from pyiceberg.schema import Schema\n",
    "import pyarrow as pa\n",
    "import datetime\n",
    "import polars as pl\n",
    "from pyiceberg.types import (\n",
    "    TimestampType,\n",
    "    FloatType,\n",
    "    DoubleType,\n",
    "    StringType,\n",
    "    NestedField,\n",
    "    StructType,\n",
    ")\n",
    "from pyiceberg.partitioning import PartitionSpec, PartitionField\n",
    "from pyiceberg.transforms import DayTransform\n",
    "\n",
    "from pyiceberg.table.sorting import SortOrder, SortField\n",
    "from pyiceberg.transforms import IdentityTransform\n",
    "\n",
    "\n",
    "schema = Schema(\n",
    "    NestedField(field_id=1, name=\"datetime\", field_type=TimestampType(), required=True),\n",
    "    NestedField(field_id=2, name=\"symbol\", field_type=StringType(), required=True),\n",
    "    NestedField(field_id=3, name=\"bid\", field_type=FloatType(), required=False),\n",
    "    NestedField(field_id=4, name=\"ask\", field_type=DoubleType(), required=False),\n",
    "    NestedField(\n",
    "        field_id=5,\n",
    "        name=\"details\",\n",
    "        field_type=StructType(\n",
    "            NestedField(\n",
    "                field_id=4, name=\"created_by\", field_type=StringType(), required=False\n",
    "            ),\n",
    "        ),\n",
    "        required=False,\n",
    "    ),\n",
    ")\n",
    "\n",
    "\n",
    "partition_spec = PartitionSpec(\n",
    "    PartitionField(\n",
    "        source_id=1, field_id=1000, transform=DayTransform(), name=\"datetime_day\"\n",
    "    )\n",
    ")\n",
    "\n",
    "\n",
    "# Sort on the symbol\n",
    "sort_order = SortOrder(SortField(source_id=2, transform=IdentityTransform()))\n",
    "\n",
    "if not catalog.table_exists(\"default.bids\"):\n",
    "    catalog.create_table(\n",
    "        identifier=\"default.bids\",\n",
    "        schema=schema,\n",
    "        location=\"s3://warehouse/bids\",\n",
    "        partition_spec=partition_spec,\n",
    "        sort_order=sort_order,\n",
    "    )\n"
   ]
  },
  {
   "cell_type": "markdown",
   "id": "c013f259",
   "metadata": {},
   "source": [
    "## Load a table"
   ]
  },
  {
   "cell_type": "code",
   "execution_count": 5,
   "id": "a93f0929",
   "metadata": {},
   "outputs": [],
   "source": [
    "table = catalog.load_table(\"default.bids\")"
   ]
  },
  {
   "cell_type": "markdown",
   "id": "5eb349fc",
   "metadata": {},
   "source": [
    "## Check if table exists"
   ]
  },
  {
   "cell_type": "code",
   "execution_count": 6,
   "id": "12cd69ce",
   "metadata": {},
   "outputs": [
    {
     "data": {
      "text/plain": [
       "True"
      ]
     },
     "execution_count": 6,
     "metadata": {},
     "output_type": "execute_result"
    }
   ],
   "source": [
    "catalog.table_exists(\"default.bids\")"
   ]
  },
  {
   "cell_type": "markdown",
   "id": "936abfc3",
   "metadata": {},
   "source": [
    "## Convert to Polars DataFrame"
   ]
  },
  {
   "cell_type": "code",
   "execution_count": 7,
   "id": "d2e91dc5",
   "metadata": {},
   "outputs": [
    {
     "data": {
      "text/html": [
       "<div><style>\n",
       ".dataframe > thead > tr,\n",
       ".dataframe > tbody > tr {\n",
       "  text-align: right;\n",
       "  white-space: pre-wrap;\n",
       "}\n",
       "</style>\n",
       "<small>shape: (0, 5)</small><table border=\"1\" class=\"dataframe\"><thead><tr><th>datetime</th><th>symbol</th><th>bid</th><th>ask</th><th>details</th></tr><tr><td>datetime[μs]</td><td>str</td><td>f32</td><td>f64</td><td>struct[1]</td></tr></thead><tbody></tbody></table></div>"
      ],
      "text/plain": [
       "shape: (0, 5)\n",
       "┌──────────────┬────────┬─────┬─────┬───────────┐\n",
       "│ datetime     ┆ symbol ┆ bid ┆ ask ┆ details   │\n",
       "│ ---          ┆ ---    ┆ --- ┆ --- ┆ ---       │\n",
       "│ datetime[μs] ┆ str    ┆ f32 ┆ f64 ┆ struct[1] │\n",
       "╞══════════════╪════════╪═════╪═════╪═══════════╡\n",
       "└──────────────┴────────┴─────┴─────┴───────────┘"
      ]
     },
     "execution_count": 7,
     "metadata": {},
     "output_type": "execute_result"
    }
   ],
   "source": [
    "table_df = table.scan().to_polars()\n",
    "table_df"
   ]
  },
  {
   "cell_type": "markdown",
   "id": "a96f6fcb",
   "metadata": {},
   "source": [
    "## Append some data"
   ]
  },
  {
   "cell_type": "markdown",
   "id": "72cdae9c",
   "metadata": {},
   "source": [
    "Note that is necessary to convert the pyarrow schema to the one of the table, not the one inferred by Polars.\n",
    "\n",
    "This is because Polars does not care about not null columns, therefore Iceberg will give errors due to schema missmatch."
   ]
  },
  {
   "cell_type": "code",
   "execution_count": 8,
   "id": "8dec2523",
   "metadata": {},
   "outputs": [],
   "source": [
    "def cast_to_pyarrow(df: pl.DataFrame, schema: pa.Schema) -> pa.Table:\n",
    "    arrow_df = df.to_arrow()\n",
    "    return arrow_df.cast(schema)\n",
    "\n",
    "\n",
    "data = pl.DataFrame(\n",
    "    {\n",
    "        \"datetime\": [\n",
    "            datetime.datetime(2023, 1, 1, 12, 0),\n",
    "            datetime.datetime(2023, 1, 2, 12, 0),\n",
    "            datetime.datetime(2023, 1, 3, 12, 0),\n",
    "        ],\n",
    "        \"symbol\": [\"AAPL\", \"GOOGL\", \"MSFT\"],\n",
    "        \"bid\": [150.0, 2800.0, 300.0],\n",
    "        \"ask\": [151.0, 2805.0, 305.0],\n",
    "        \"details\": [\n",
    "            {\"created_by\": \"user1\"},\n",
    "            {\"created_by\": \"user2\"},\n",
    "            {\"created_by\": None},\n",
    "        ],\n",
    "    },\n",
    ")\n"
   ]
  },
  {
   "cell_type": "code",
   "execution_count": 9,
   "id": "31d174f1",
   "metadata": {},
   "outputs": [],
   "source": [
    "table.append(df=cast_to_pyarrow(data, table.schema().as_arrow()))"
   ]
  },
  {
   "cell_type": "code",
   "execution_count": 10,
   "id": "1aad328d",
   "metadata": {},
   "outputs": [
    {
     "data": {
      "text/html": [
       "<div><style>\n",
       ".dataframe > thead > tr,\n",
       ".dataframe > tbody > tr {\n",
       "  text-align: right;\n",
       "  white-space: pre-wrap;\n",
       "}\n",
       "</style>\n",
       "<small>shape: (3, 5)</small><table border=\"1\" class=\"dataframe\"><thead><tr><th>datetime</th><th>symbol</th><th>bid</th><th>ask</th><th>details</th></tr><tr><td>datetime[μs]</td><td>str</td><td>f32</td><td>f64</td><td>struct[1]</td></tr></thead><tbody><tr><td>2023-01-01 12:00:00</td><td>&quot;AAPL&quot;</td><td>150.0</td><td>151.0</td><td>{&quot;user1&quot;}</td></tr><tr><td>2023-01-02 12:00:00</td><td>&quot;GOOGL&quot;</td><td>2800.0</td><td>2805.0</td><td>{&quot;user2&quot;}</td></tr><tr><td>2023-01-03 12:00:00</td><td>&quot;MSFT&quot;</td><td>300.0</td><td>305.0</td><td>{null}</td></tr></tbody></table></div>"
      ],
      "text/plain": [
       "shape: (3, 5)\n",
       "┌─────────────────────┬────────┬────────┬────────┬───────────┐\n",
       "│ datetime            ┆ symbol ┆ bid    ┆ ask    ┆ details   │\n",
       "│ ---                 ┆ ---    ┆ ---    ┆ ---    ┆ ---       │\n",
       "│ datetime[μs]        ┆ str    ┆ f32    ┆ f64    ┆ struct[1] │\n",
       "╞═════════════════════╪════════╪════════╪════════╪═══════════╡\n",
       "│ 2023-01-01 12:00:00 ┆ AAPL   ┆ 150.0  ┆ 151.0  ┆ {\"user1\"} │\n",
       "│ 2023-01-02 12:00:00 ┆ GOOGL  ┆ 2800.0 ┆ 2805.0 ┆ {\"user2\"} │\n",
       "│ 2023-01-03 12:00:00 ┆ MSFT   ┆ 300.0  ┆ 305.0  ┆ {null}    │\n",
       "└─────────────────────┴────────┴────────┴────────┴───────────┘"
      ]
     },
     "execution_count": 10,
     "metadata": {},
     "output_type": "execute_result"
    }
   ],
   "source": [
    "table.scan().to_polars()"
   ]
  },
  {
   "cell_type": "markdown",
   "id": "45a44180",
   "metadata": {},
   "source": [
    "## Test upsert"
   ]
  },
  {
   "cell_type": "code",
   "execution_count": 11,
   "id": "e123f338",
   "metadata": {},
   "outputs": [
    {
     "data": {
      "text/html": [
       "<div><style>\n",
       ".dataframe > thead > tr,\n",
       ".dataframe > tbody > tr {\n",
       "  text-align: right;\n",
       "  white-space: pre-wrap;\n",
       "}\n",
       "</style>\n",
       "<small>shape: (2, 5)</small><table border=\"1\" class=\"dataframe\"><thead><tr><th>datetime</th><th>symbol</th><th>bid</th><th>ask</th><th>details</th></tr><tr><td>datetime[μs]</td><td>str</td><td>f32</td><td>f64</td><td>struct[1]</td></tr></thead><tbody><tr><td>2023-01-01 12:00:00</td><td>&quot;AAPL2&quot;</td><td>150.0</td><td>151.0</td><td>{&quot;user1&quot;}</td></tr><tr><td>2023-01-04 12:00:00</td><td>&quot;AMZ&quot;</td><td>2800.0</td><td>2805.0</td><td>{&quot;user1&quot;}</td></tr></tbody></table></div>"
      ],
      "text/plain": [
       "shape: (2, 5)\n",
       "┌─────────────────────┬────────┬────────┬────────┬───────────┐\n",
       "│ datetime            ┆ symbol ┆ bid    ┆ ask    ┆ details   │\n",
       "│ ---                 ┆ ---    ┆ ---    ┆ ---    ┆ ---       │\n",
       "│ datetime[μs]        ┆ str    ┆ f32    ┆ f64    ┆ struct[1] │\n",
       "╞═════════════════════╪════════╪════════╪════════╪═══════════╡\n",
       "│ 2023-01-01 12:00:00 ┆ AAPL2  ┆ 150.0  ┆ 151.0  ┆ {\"user1\"} │\n",
       "│ 2023-01-04 12:00:00 ┆ AMZ    ┆ 2800.0 ┆ 2805.0 ┆ {\"user1\"} │\n",
       "└─────────────────────┴────────┴────────┴────────┴───────────┘"
      ]
     },
     "execution_count": 11,
     "metadata": {},
     "output_type": "execute_result"
    }
   ],
   "source": [
    "df = pa.Table.from_pylist(\n",
    "    [\n",
    "        {\n",
    "            \"datetime\": datetime.datetime(2023, 1, 1, 12, 0),\n",
    "            \"symbol\": \"AAPL2\",\n",
    "            \"bid\": 150.0,\n",
    "            \"ask\": 151.0,\n",
    "            \"details\": {\"created_by\": \"user1\"},\n",
    "        },\n",
    "        {\n",
    "            \"datetime\": datetime.datetime(2023, 1, 4, 12, 0),\n",
    "            \"symbol\": \"AMZ\",\n",
    "            \"bid\": 2800.0,\n",
    "            \"ask\": 2805.0,\n",
    "            \"details\": {\"created_by\": \"user1\"},\n",
    "        },\n",
    "    ],\n",
    "    schema=table.schema().as_arrow(),\n",
    ")\n",
    "pl.from_arrow(df)"
   ]
  },
  {
   "cell_type": "code",
   "execution_count": 12,
   "id": "507e48a8",
   "metadata": {},
   "outputs": [
    {
     "data": {
      "text/plain": [
       "UpsertResult(rows_updated=1, rows_inserted=1)"
      ]
     },
     "execution_count": 12,
     "metadata": {},
     "output_type": "execute_result"
    }
   ],
   "source": [
    "table.upsert(df, join_cols=[\"datetime\"])"
   ]
  },
  {
   "cell_type": "code",
   "execution_count": 13,
   "id": "1f92342f",
   "metadata": {},
   "outputs": [
    {
     "data": {
      "text/html": [
       "<div><style>\n",
       ".dataframe > thead > tr,\n",
       ".dataframe > tbody > tr {\n",
       "  text-align: right;\n",
       "  white-space: pre-wrap;\n",
       "}\n",
       "</style>\n",
       "<small>shape: (4, 5)</small><table border=\"1\" class=\"dataframe\"><thead><tr><th>datetime</th><th>symbol</th><th>bid</th><th>ask</th><th>details</th></tr><tr><td>datetime[μs]</td><td>str</td><td>f32</td><td>f64</td><td>struct[1]</td></tr></thead><tbody><tr><td>2023-01-01 12:00:00</td><td>&quot;AAPL2&quot;</td><td>150.0</td><td>151.0</td><td>{&quot;user1&quot;}</td></tr><tr><td>2023-01-02 12:00:00</td><td>&quot;GOOGL&quot;</td><td>2800.0</td><td>2805.0</td><td>{&quot;user2&quot;}</td></tr><tr><td>2023-01-03 12:00:00</td><td>&quot;MSFT&quot;</td><td>300.0</td><td>305.0</td><td>{null}</td></tr><tr><td>2023-01-04 12:00:00</td><td>&quot;AMZ&quot;</td><td>2800.0</td><td>2805.0</td><td>{&quot;user1&quot;}</td></tr></tbody></table></div>"
      ],
      "text/plain": [
       "shape: (4, 5)\n",
       "┌─────────────────────┬────────┬────────┬────────┬───────────┐\n",
       "│ datetime            ┆ symbol ┆ bid    ┆ ask    ┆ details   │\n",
       "│ ---                 ┆ ---    ┆ ---    ┆ ---    ┆ ---       │\n",
       "│ datetime[μs]        ┆ str    ┆ f32    ┆ f64    ┆ struct[1] │\n",
       "╞═════════════════════╪════════╪════════╪════════╪═══════════╡\n",
       "│ 2023-01-01 12:00:00 ┆ AAPL2  ┆ 150.0  ┆ 151.0  ┆ {\"user1\"} │\n",
       "│ 2023-01-02 12:00:00 ┆ GOOGL  ┆ 2800.0 ┆ 2805.0 ┆ {\"user2\"} │\n",
       "│ 2023-01-03 12:00:00 ┆ MSFT   ┆ 300.0  ┆ 305.0  ┆ {null}    │\n",
       "│ 2023-01-04 12:00:00 ┆ AMZ    ┆ 2800.0 ┆ 2805.0 ┆ {\"user1\"} │\n",
       "└─────────────────────┴────────┴────────┴────────┴───────────┘"
      ]
     },
     "execution_count": 13,
     "metadata": {},
     "output_type": "execute_result"
    }
   ],
   "source": [
    "table.scan().to_polars().sort(\"datetime\")"
   ]
  },
  {
   "cell_type": "markdown",
   "id": "4e7ebe02",
   "metadata": {},
   "source": [
    "# Check partition overwrite"
   ]
  },
  {
   "cell_type": "markdown",
   "id": "5d03ea65",
   "metadata": {},
   "source": [
    "Here we'll check if partial overwrite does work. We'll use the same dataframe as before for the upsert, but we'll run an `overwrite` operation only on the partition `datetime=2023-01-01T12:00:00`"
   ]
  },
  {
   "cell_type": "code",
   "execution_count": 14,
   "id": "ec26ab20",
   "metadata": {},
   "outputs": [
    {
     "name": "stdout",
     "output_type": "stream",
     "text": [
      "shape: (2, 5)\n",
      "┌─────────────────────┬────────┬────────┬────────┬───────────┐\n",
      "│ datetime            ┆ symbol ┆ bid    ┆ ask    ┆ details   │\n",
      "│ ---                 ┆ ---    ┆ ---    ┆ ---    ┆ ---       │\n",
      "│ datetime[μs]        ┆ str    ┆ f32    ┆ f64    ┆ struct[1] │\n",
      "╞═════════════════════╪════════╪════════╪════════╪═══════════╡\n",
      "│ 2023-01-01 12:00:00 ┆ AAPL2  ┆ 150.0  ┆ 151.0  ┆ {\"user1\"} │\n",
      "│ 2023-01-04 12:00:00 ┆ AMZ    ┆ 2800.0 ┆ 2805.0 ┆ {\"user1\"} │\n",
      "└─────────────────────┴────────┴────────┴────────┴───────────┘\n"
     ]
    }
   ],
   "source": [
    "from pyiceberg.expressions import EqualTo\n",
    "\n",
    "df = pa.Table.from_pylist(\n",
    "    [\n",
    "        {\n",
    "            \"datetime\": datetime.datetime(2023, 1, 1, 12, 0),\n",
    "            \"symbol\": \"AAPL2\",\n",
    "            \"bid\": 150.0,\n",
    "            \"ask\": 151.0,\n",
    "            \"details\": {\"created_by\": \"user1\"},\n",
    "        },\n",
    "        {\n",
    "            \"datetime\": datetime.datetime(2023, 1, 4, 12, 0),\n",
    "            \"symbol\": \"AMZ\",\n",
    "            \"bid\": 2800.0,\n",
    "            \"ask\": 2805.0,\n",
    "            \"details\": {\"created_by\": \"user1\"},\n",
    "        },\n",
    "    ],\n",
    "    schema=table.schema().as_arrow(),\n",
    ")\n",
    "pl.from_arrow(df)\n",
    "print(pl.from_arrow(df))\n",
    "table.overwrite(df, overwrite_filter=EqualTo(\"datetime\", \"2023-01-01T12:00:00\"))"
   ]
  },
  {
   "cell_type": "code",
   "execution_count": 15,
   "id": "6186706d",
   "metadata": {},
   "outputs": [
    {
     "data": {
      "text/html": [
       "<div><style>\n",
       ".dataframe > thead > tr,\n",
       ".dataframe > tbody > tr {\n",
       "  text-align: right;\n",
       "  white-space: pre-wrap;\n",
       "}\n",
       "</style>\n",
       "<small>shape: (5, 5)</small><table border=\"1\" class=\"dataframe\"><thead><tr><th>datetime</th><th>symbol</th><th>bid</th><th>ask</th><th>details</th></tr><tr><td>datetime[μs]</td><td>str</td><td>f32</td><td>f64</td><td>struct[1]</td></tr></thead><tbody><tr><td>2023-01-01 12:00:00</td><td>&quot;AAPL2&quot;</td><td>150.0</td><td>151.0</td><td>{&quot;user1&quot;}</td></tr><tr><td>2023-01-04 12:00:00</td><td>&quot;AMZ&quot;</td><td>2800.0</td><td>2805.0</td><td>{&quot;user1&quot;}</td></tr><tr><td>2023-01-04 12:00:00</td><td>&quot;AMZ&quot;</td><td>2800.0</td><td>2805.0</td><td>{&quot;user1&quot;}</td></tr><tr><td>2023-01-02 12:00:00</td><td>&quot;GOOGL&quot;</td><td>2800.0</td><td>2805.0</td><td>{&quot;user2&quot;}</td></tr><tr><td>2023-01-03 12:00:00</td><td>&quot;MSFT&quot;</td><td>300.0</td><td>305.0</td><td>{null}</td></tr></tbody></table></div>"
      ],
      "text/plain": [
       "shape: (5, 5)\n",
       "┌─────────────────────┬────────┬────────┬────────┬───────────┐\n",
       "│ datetime            ┆ symbol ┆ bid    ┆ ask    ┆ details   │\n",
       "│ ---                 ┆ ---    ┆ ---    ┆ ---    ┆ ---       │\n",
       "│ datetime[μs]        ┆ str    ┆ f32    ┆ f64    ┆ struct[1] │\n",
       "╞═════════════════════╪════════╪════════╪════════╪═══════════╡\n",
       "│ 2023-01-01 12:00:00 ┆ AAPL2  ┆ 150.0  ┆ 151.0  ┆ {\"user1\"} │\n",
       "│ 2023-01-04 12:00:00 ┆ AMZ    ┆ 2800.0 ┆ 2805.0 ┆ {\"user1\"} │\n",
       "│ 2023-01-04 12:00:00 ┆ AMZ    ┆ 2800.0 ┆ 2805.0 ┆ {\"user1\"} │\n",
       "│ 2023-01-02 12:00:00 ┆ GOOGL  ┆ 2800.0 ┆ 2805.0 ┆ {\"user2\"} │\n",
       "│ 2023-01-03 12:00:00 ┆ MSFT   ┆ 300.0  ┆ 305.0  ┆ {null}    │\n",
       "└─────────────────────┴────────┴────────┴────────┴───────────┘"
      ]
     },
     "execution_count": 15,
     "metadata": {},
     "output_type": "execute_result"
    }
   ],
   "source": [
    "table.scan().to_polars()"
   ]
  },
  {
   "cell_type": "markdown",
   "id": "f9b5b6d1",
   "metadata": {},
   "source": [
    "This is cool, because it respected the filter, and it created a duplicate for ` 2023-01-04 12:00:00` since it was not specified in the filter."
   ]
  },
  {
   "cell_type": "markdown",
   "id": "370faed0",
   "metadata": {},
   "source": [
    "## Overwrite from Polars\n",
    "\n",
    "Polars has `read_iceberg` and `write_iceberg` predicates, let's see if they work."
   ]
  },
  {
   "cell_type": "code",
   "execution_count": 16,
   "id": "fc481d38",
   "metadata": {},
   "outputs": [
    {
     "data": {
      "text/html": [
       "<div><style>\n",
       ".dataframe > thead > tr,\n",
       ".dataframe > tbody > tr {\n",
       "  text-align: right;\n",
       "  white-space: pre-wrap;\n",
       "}\n",
       "</style>\n",
       "<small>shape: (5, 5)</small><table border=\"1\" class=\"dataframe\"><thead><tr><th>datetime</th><th>symbol</th><th>bid</th><th>ask</th><th>details</th></tr><tr><td>datetime[μs]</td><td>str</td><td>f32</td><td>f64</td><td>struct[1]</td></tr></thead><tbody><tr><td>2023-01-01 12:00:00</td><td>&quot;AAPL2&quot;</td><td>150.0</td><td>151.0</td><td>{&quot;user1&quot;}</td></tr><tr><td>2023-01-04 12:00:00</td><td>&quot;AMZ&quot;</td><td>2800.0</td><td>2805.0</td><td>{&quot;user1&quot;}</td></tr><tr><td>2023-01-04 12:00:00</td><td>&quot;AMZ&quot;</td><td>2800.0</td><td>2805.0</td><td>{&quot;user1&quot;}</td></tr><tr><td>2023-01-02 12:00:00</td><td>&quot;GOOGL&quot;</td><td>2800.0</td><td>2805.0</td><td>{&quot;user2&quot;}</td></tr><tr><td>2023-01-03 12:00:00</td><td>&quot;MSFT&quot;</td><td>300.0</td><td>305.0</td><td>{null}</td></tr></tbody></table></div>"
      ],
      "text/plain": [
       "shape: (5, 5)\n",
       "┌─────────────────────┬────────┬────────┬────────┬───────────┐\n",
       "│ datetime            ┆ symbol ┆ bid    ┆ ask    ┆ details   │\n",
       "│ ---                 ┆ ---    ┆ ---    ┆ ---    ┆ ---       │\n",
       "│ datetime[μs]        ┆ str    ┆ f32    ┆ f64    ┆ struct[1] │\n",
       "╞═════════════════════╪════════╪════════╪════════╪═══════════╡\n",
       "│ 2023-01-01 12:00:00 ┆ AAPL2  ┆ 150.0  ┆ 151.0  ┆ {\"user1\"} │\n",
       "│ 2023-01-04 12:00:00 ┆ AMZ    ┆ 2800.0 ┆ 2805.0 ┆ {\"user1\"} │\n",
       "│ 2023-01-04 12:00:00 ┆ AMZ    ┆ 2800.0 ┆ 2805.0 ┆ {\"user1\"} │\n",
       "│ 2023-01-02 12:00:00 ┆ GOOGL  ┆ 2800.0 ┆ 2805.0 ┆ {\"user2\"} │\n",
       "│ 2023-01-03 12:00:00 ┆ MSFT   ┆ 300.0  ┆ 305.0  ┆ {null}    │\n",
       "└─────────────────────┴────────┴────────┴────────┴───────────┘"
      ]
     },
     "execution_count": 16,
     "metadata": {},
     "output_type": "execute_result"
    }
   ],
   "source": [
    "pl.scan_iceberg(table, reader_override=\"pyiceberg\").collect()"
   ]
  },
  {
   "cell_type": "markdown",
   "id": "f3d21ddb",
   "metadata": {},
   "source": [
    "There are still problems with how schema is evaluated for required fields."
   ]
  },
  {
   "cell_type": "code",
   "execution_count": 17,
   "id": "34717809",
   "metadata": {},
   "outputs": [
    {
     "data": {
      "text/html": [
       "<pre style=\"white-space:pre;overflow-x:auto;line-height:normal;font-family:Menlo,'DejaVu Sans Mono',consolas,'Courier New',monospace\">┏━━━━┳━━━━━━━━━━━━━━━━━━━━━━━━━━━━━━━━━━━━━━━━━━━━━━━━━━━━━┳━━━━━━━━━━━━━━━━━━━━━━━━━━━━━━━━━━━━━━━━━━━━━━━━━━━━━━┓\n",
       "┃<span style=\"font-weight: bold\">    </span>┃<span style=\"font-weight: bold\"> Table field                                         </span>┃<span style=\"font-weight: bold\"> Dataframe field                                      </span>┃\n",
       "┡━━━━╇━━━━━━━━━━━━━━━━━━━━━━━━━━━━━━━━━━━━━━━━━━━━━━━━━━━━━╇━━━━━━━━━━━━━━━━━━━━━━━━━━━━━━━━━━━━━━━━━━━━━━━━━━━━━━┩\n",
       "│ ❌ │ 1: datetime: required timestamp                     │ 1: datetime: optional timestamp                      │\n",
       "│ ❌ │ 2: symbol: required string                          │ 2: symbol: optional string                           │\n",
       "│ ❌ │ 3: bid: optional float                              │ 3: bid: optional double                              │\n",
       "│ ✅ │ 4: ask: optional double                             │ 4: ask: optional double                              │\n",
       "│ ✅ │ 5: details: optional struct&lt;6: created_by: optional │ 5: details: optional struct&lt;6: created_by: optional  │\n",
       "│    │ string&gt;                                             │ string&gt;                                              │\n",
       "│ ✅ │ 6: created_by: optional string                      │ 6: created_by: optional string                       │\n",
       "└────┴─────────────────────────────────────────────────────┴──────────────────────────────────────────────────────┘\n",
       "</pre>\n"
      ],
      "text/plain": [
       "┏━━━━┳━━━━━━━━━━━━━━━━━━━━━━━━━━━━━━━━━━━━━━━━━━━━━━━━━━━━━┳━━━━━━━━━━━━━━━━━━━━━━━━━━━━━━━━━━━━━━━━━━━━━━━━━━━━━━┓\n",
       "┃\u001b[1m \u001b[0m\u001b[1m  \u001b[0m\u001b[1m \u001b[0m┃\u001b[1m \u001b[0m\u001b[1mTable field                                        \u001b[0m\u001b[1m \u001b[0m┃\u001b[1m \u001b[0m\u001b[1mDataframe field                                     \u001b[0m\u001b[1m \u001b[0m┃\n",
       "┡━━━━╇━━━━━━━━━━━━━━━━━━━━━━━━━━━━━━━━━━━━━━━━━━━━━━━━━━━━━╇━━━━━━━━━━━━━━━━━━━━━━━━━━━━━━━━━━━━━━━━━━━━━━━━━━━━━━┩\n",
       "│ ❌ │ 1: datetime: required timestamp                     │ 1: datetime: optional timestamp                      │\n",
       "│ ❌ │ 2: symbol: required string                          │ 2: symbol: optional string                           │\n",
       "│ ❌ │ 3: bid: optional float                              │ 3: bid: optional double                              │\n",
       "│ ✅ │ 4: ask: optional double                             │ 4: ask: optional double                              │\n",
       "│ ✅ │ 5: details: optional struct<6: created_by: optional │ 5: details: optional struct<6: created_by: optional  │\n",
       "│    │ string>                                             │ string>                                              │\n",
       "│ ✅ │ 6: created_by: optional string                      │ 6: created_by: optional string                       │\n",
       "└────┴─────────────────────────────────────────────────────┴──────────────────────────────────────────────────────┘\n"
      ]
     },
     "metadata": {},
     "output_type": "display_data"
    },
    {
     "ename": "ValueError",
     "evalue": "Mismatch in fields:\n┏━━━━┳━━━━━━━━━━━━━━━━━━━━━━━━━━━━━━━━━━━━━━━━━━━━━━━━━━━━━┳━━━━━━━━━━━━━━━━━━━━━━━━━━━━━━━━━━━━━━━━━━━━━━━━━━━━━━┓\n┃    ┃ Table field                                         ┃ Dataframe field                                      ┃\n┡━━━━╇━━━━━━━━━━━━━━━━━━━━━━━━━━━━━━━━━━━━━━━━━━━━━━━━━━━━━╇━━━━━━━━━━━━━━━━━━━━━━━━━━━━━━━━━━━━━━━━━━━━━━━━━━━━━━┩\n│ ❌ │ 1: datetime: required timestamp                     │ 1: datetime: optional timestamp                      │\n│ ❌ │ 2: symbol: required string                          │ 2: symbol: optional string                           │\n│ ❌ │ 3: bid: optional float                              │ 3: bid: optional double                              │\n│ ✅ │ 4: ask: optional double                             │ 4: ask: optional double                              │\n│ ✅ │ 5: details: optional struct<6: created_by: optional │ 5: details: optional struct<6: created_by: optional  │\n│    │ string>                                             │ string>                                              │\n│ ✅ │ 6: created_by: optional string                      │ 6: created_by: optional string                       │\n└────┴─────────────────────────────────────────────────────┴──────────────────────────────────────────────────────┘\n",
     "output_type": "error",
     "traceback": [
      "\u001b[31m---------------------------------------------------------------------------\u001b[39m",
      "\u001b[31mValueError\u001b[39m                                Traceback (most recent call last)",
      "\u001b[36mCell\u001b[39m\u001b[36m \u001b[39m\u001b[32mIn[17]\u001b[39m\u001b[32m, line 1\u001b[39m\n\u001b[32m----> \u001b[39m\u001b[32m1\u001b[39m \u001b[43mdata\u001b[49m\u001b[43m.\u001b[49m\u001b[43mwrite_iceberg\u001b[49m\u001b[43m(\u001b[49m\u001b[43mtable\u001b[49m\u001b[43m,\u001b[49m\u001b[43m \u001b[49m\u001b[33;43m\"\u001b[39;49m\u001b[33;43moverwrite\u001b[39;49m\u001b[33;43m\"\u001b[39;49m\u001b[43m)\u001b[49m\n",
      "\u001b[36mFile \u001b[39m\u001b[32m~/GitHub/poor-man-lakehouse/.venv/lib/python3.12/site-packages/polars/_utils/unstable.py:58\u001b[39m, in \u001b[36munstable.<locals>.decorate.<locals>.wrapper\u001b[39m\u001b[34m(*args, **kwargs)\u001b[39m\n\u001b[32m     55\u001b[39m \u001b[38;5;129m@wraps\u001b[39m(function)\n\u001b[32m     56\u001b[39m \u001b[38;5;28;01mdef\u001b[39;00m\u001b[38;5;250m \u001b[39m\u001b[34mwrapper\u001b[39m(*args: P.args, **kwargs: P.kwargs) -> T:\n\u001b[32m     57\u001b[39m     issue_unstable_warning(\u001b[33mf\u001b[39m\u001b[33m\"\u001b[39m\u001b[33m`\u001b[39m\u001b[38;5;132;01m{\u001b[39;00mfunction.\u001b[34m__name__\u001b[39m\u001b[38;5;132;01m}\u001b[39;00m\u001b[33m` is considered unstable.\u001b[39m\u001b[33m\"\u001b[39m)\n\u001b[32m---> \u001b[39m\u001b[32m58\u001b[39m     \u001b[38;5;28;01mreturn\u001b[39;00m \u001b[43mfunction\u001b[49m\u001b[43m(\u001b[49m\u001b[43m*\u001b[49m\u001b[43margs\u001b[49m\u001b[43m,\u001b[49m\u001b[43m \u001b[49m\u001b[43m*\u001b[49m\u001b[43m*\u001b[49m\u001b[43mkwargs\u001b[49m\u001b[43m)\u001b[49m\n",
      "\u001b[36mFile \u001b[39m\u001b[32m~/GitHub/poor-man-lakehouse/.venv/lib/python3.12/site-packages/polars/dataframe/frame.py:4432\u001b[39m, in \u001b[36mDataFrame.write_iceberg\u001b[39m\u001b[34m(self, target, mode)\u001b[39m\n\u001b[32m   4430\u001b[39m     table.append(data)\n\u001b[32m   4431\u001b[39m \u001b[38;5;28;01melse\u001b[39;00m:\n\u001b[32m-> \u001b[39m\u001b[32m4432\u001b[39m     \u001b[43mtable\u001b[49m\u001b[43m.\u001b[49m\u001b[43moverwrite\u001b[49m\u001b[43m(\u001b[49m\u001b[43mdata\u001b[49m\u001b[43m)\u001b[49m\n",
      "\u001b[36mFile \u001b[39m\u001b[32m~/GitHub/poor-man-lakehouse/.venv/lib/python3.12/site-packages/pyiceberg/table/__init__.py:1266\u001b[39m, in \u001b[36mTable.overwrite\u001b[39m\u001b[34m(self, df, overwrite_filter, snapshot_properties, case_sensitive)\u001b[39m\n\u001b[32m   1249\u001b[39m \u001b[38;5;250m\u001b[39m\u001b[33;03m\"\"\"\u001b[39;00m\n\u001b[32m   1250\u001b[39m \u001b[33;03mShorthand for overwriting the table with a PyArrow table.\u001b[39;00m\n\u001b[32m   1251\u001b[39m \n\u001b[32m   (...)\u001b[39m\u001b[32m   1263\u001b[39m \u001b[33;03m    case_sensitive: A bool determine if the provided `overwrite_filter` is case-sensitive\u001b[39;00m\n\u001b[32m   1264\u001b[39m \u001b[33;03m\"\"\"\u001b[39;00m\n\u001b[32m   1265\u001b[39m \u001b[38;5;28;01mwith\u001b[39;00m \u001b[38;5;28mself\u001b[39m.transaction() \u001b[38;5;28;01mas\u001b[39;00m tx:\n\u001b[32m-> \u001b[39m\u001b[32m1266\u001b[39m     \u001b[43mtx\u001b[49m\u001b[43m.\u001b[49m\u001b[43moverwrite\u001b[49m\u001b[43m(\u001b[49m\n\u001b[32m   1267\u001b[39m \u001b[43m        \u001b[49m\u001b[43mdf\u001b[49m\u001b[43m=\u001b[49m\u001b[43mdf\u001b[49m\u001b[43m,\u001b[49m\u001b[43m \u001b[49m\u001b[43moverwrite_filter\u001b[49m\u001b[43m=\u001b[49m\u001b[43moverwrite_filter\u001b[49m\u001b[43m,\u001b[49m\u001b[43m \u001b[49m\u001b[43mcase_sensitive\u001b[49m\u001b[43m=\u001b[49m\u001b[43mcase_sensitive\u001b[49m\u001b[43m,\u001b[49m\u001b[43m \u001b[49m\u001b[43msnapshot_properties\u001b[49m\u001b[43m=\u001b[49m\u001b[43msnapshot_properties\u001b[49m\n\u001b[32m   1268\u001b[39m \u001b[43m    \u001b[49m\u001b[43m)\u001b[49m\n",
      "\u001b[36mFile \u001b[39m\u001b[32m~/GitHub/poor-man-lakehouse/.venv/lib/python3.12/site-packages/pyiceberg/table/__init__.py:577\u001b[39m, in \u001b[36mTransaction.overwrite\u001b[39m\u001b[34m(self, df, overwrite_filter, snapshot_properties, case_sensitive)\u001b[39m\n\u001b[32m    573\u001b[39m     \u001b[38;5;28;01mraise\u001b[39;00m \u001b[38;5;167;01mValueError\u001b[39;00m(\n\u001b[32m    574\u001b[39m         \u001b[33mf\u001b[39m\u001b[33m\"\u001b[39m\u001b[33mNot all partition types are supported for writes. Following partitions cannot be written using pyarrow: \u001b[39m\u001b[38;5;132;01m{\u001b[39;00munsupported_partitions\u001b[38;5;132;01m}\u001b[39;00m\u001b[33m.\u001b[39m\u001b[33m\"\u001b[39m\n\u001b[32m    575\u001b[39m     )\n\u001b[32m    576\u001b[39m downcast_ns_timestamp_to_us = Config().get_bool(DOWNCAST_NS_TIMESTAMP_TO_US_ON_WRITE) \u001b[38;5;129;01mor\u001b[39;00m \u001b[38;5;28;01mFalse\u001b[39;00m\n\u001b[32m--> \u001b[39m\u001b[32m577\u001b[39m \u001b[43m_check_pyarrow_schema_compatible\u001b[49m\u001b[43m(\u001b[49m\n\u001b[32m    578\u001b[39m \u001b[43m    \u001b[49m\u001b[38;5;28;43mself\u001b[39;49m\u001b[43m.\u001b[49m\u001b[43mtable_metadata\u001b[49m\u001b[43m.\u001b[49m\u001b[43mschema\u001b[49m\u001b[43m(\u001b[49m\u001b[43m)\u001b[49m\u001b[43m,\u001b[49m\u001b[43m \u001b[49m\u001b[43mprovided_schema\u001b[49m\u001b[43m=\u001b[49m\u001b[43mdf\u001b[49m\u001b[43m.\u001b[49m\u001b[43mschema\u001b[49m\u001b[43m,\u001b[49m\u001b[43m \u001b[49m\u001b[43mdowncast_ns_timestamp_to_us\u001b[49m\u001b[43m=\u001b[49m\u001b[43mdowncast_ns_timestamp_to_us\u001b[49m\n\u001b[32m    579\u001b[39m \u001b[43m\u001b[49m\u001b[43m)\u001b[49m\n\u001b[32m    581\u001b[39m \u001b[38;5;28;01mif\u001b[39;00m overwrite_filter != AlwaysFalse():\n\u001b[32m    582\u001b[39m     \u001b[38;5;66;03m# Only delete when the filter is != AlwaysFalse\u001b[39;00m\n\u001b[32m    583\u001b[39m     \u001b[38;5;28mself\u001b[39m.delete(delete_filter=overwrite_filter, case_sensitive=case_sensitive, snapshot_properties=snapshot_properties)\n",
      "\u001b[36mFile \u001b[39m\u001b[32m~/GitHub/poor-man-lakehouse/.venv/lib/python3.12/site-packages/pyiceberg/io/pyarrow.py:2482\u001b[39m, in \u001b[36m_check_pyarrow_schema_compatible\u001b[39m\u001b[34m(requested_schema, provided_schema, downcast_ns_timestamp_to_us)\u001b[39m\n\u001b[32m   2478\u001b[39m     additional_names = \u001b[38;5;28mset\u001b[39m(provided_schema._name_to_id.keys()) - \u001b[38;5;28mset\u001b[39m(requested_schema._name_to_id.keys())\n\u001b[32m   2479\u001b[39m     \u001b[38;5;28;01mraise\u001b[39;00m \u001b[38;5;167;01mValueError\u001b[39;00m(\n\u001b[32m   2480\u001b[39m         \u001b[33mf\u001b[39m\u001b[33m\"\u001b[39m\u001b[33mPyArrow table contains more columns: \u001b[39m\u001b[38;5;132;01m{\u001b[39;00m\u001b[33m'\u001b[39m\u001b[33m, \u001b[39m\u001b[33m'\u001b[39m.join(\u001b[38;5;28msorted\u001b[39m(additional_names))\u001b[38;5;132;01m}\u001b[39;00m\u001b[33m. Update the schema first (hint, use union_by_name).\u001b[39m\u001b[33m\"\u001b[39m\n\u001b[32m   2481\u001b[39m     ) \u001b[38;5;28;01mfrom\u001b[39;00m\u001b[38;5;250m \u001b[39m\u001b[34;01me\u001b[39;00m\n\u001b[32m-> \u001b[39m\u001b[32m2482\u001b[39m \u001b[43m_check_schema_compatible\u001b[49m\u001b[43m(\u001b[49m\u001b[43mrequested_schema\u001b[49m\u001b[43m,\u001b[49m\u001b[43m \u001b[49m\u001b[43mprovided_schema\u001b[49m\u001b[43m)\u001b[49m\n",
      "\u001b[36mFile \u001b[39m\u001b[32m~/GitHub/poor-man-lakehouse/.venv/lib/python3.12/site-packages/pyiceberg/schema.py:1635\u001b[39m, in \u001b[36m_check_schema_compatible\u001b[39m\u001b[34m(requested_schema, provided_schema)\u001b[39m\n\u001b[32m   1621\u001b[39m \u001b[38;5;28;01mdef\u001b[39;00m\u001b[38;5;250m \u001b[39m\u001b[34m_check_schema_compatible\u001b[39m(requested_schema: Schema, provided_schema: Schema) -> \u001b[38;5;28;01mNone\u001b[39;00m:\n\u001b[32m   1622\u001b[39m \u001b[38;5;250m    \u001b[39m\u001b[33;03m\"\"\"\u001b[39;00m\n\u001b[32m   1623\u001b[39m \u001b[33;03m    Check if the `provided_schema` is compatible with `requested_schema`.\u001b[39;00m\n\u001b[32m   1624\u001b[39m \n\u001b[32m   (...)\u001b[39m\u001b[32m   1633\u001b[39m \u001b[33;03m        ValueError: If the schemas are not compatible.\u001b[39;00m\n\u001b[32m   1634\u001b[39m \u001b[33;03m    \"\"\"\u001b[39;00m\n\u001b[32m-> \u001b[39m\u001b[32m1635\u001b[39m     \u001b[43mpre_order_visit\u001b[49m\u001b[43m(\u001b[49m\u001b[43mrequested_schema\u001b[49m\u001b[43m,\u001b[49m\u001b[43m \u001b[49m\u001b[43m_SchemaCompatibilityVisitor\u001b[49m\u001b[43m(\u001b[49m\u001b[43mprovided_schema\u001b[49m\u001b[43m)\u001b[49m\u001b[43m)\u001b[49m\n",
      "\u001b[36mFile \u001b[39m\u001b[32m~/.local/share/uv/python/cpython-3.12.5-macos-aarch64-none/lib/python3.12/functools.py:907\u001b[39m, in \u001b[36msingledispatch.<locals>.wrapper\u001b[39m\u001b[34m(*args, **kw)\u001b[39m\n\u001b[32m    903\u001b[39m \u001b[38;5;28;01mif\u001b[39;00m \u001b[38;5;129;01mnot\u001b[39;00m args:\n\u001b[32m    904\u001b[39m     \u001b[38;5;28;01mraise\u001b[39;00m \u001b[38;5;167;01mTypeError\u001b[39;00m(\u001b[33mf\u001b[39m\u001b[33m'\u001b[39m\u001b[38;5;132;01m{\u001b[39;00mfuncname\u001b[38;5;132;01m}\u001b[39;00m\u001b[33m requires at least \u001b[39m\u001b[33m'\u001b[39m\n\u001b[32m    905\u001b[39m                     \u001b[33m'\u001b[39m\u001b[33m1 positional argument\u001b[39m\u001b[33m'\u001b[39m)\n\u001b[32m--> \u001b[39m\u001b[32m907\u001b[39m \u001b[38;5;28;01mreturn\u001b[39;00m \u001b[43mdispatch\u001b[49m\u001b[43m(\u001b[49m\u001b[43margs\u001b[49m\u001b[43m[\u001b[49m\u001b[32;43m0\u001b[39;49m\u001b[43m]\u001b[49m\u001b[43m.\u001b[49m\u001b[34;43m__class__\u001b[39;49m\u001b[43m)\u001b[49m\u001b[43m(\u001b[49m\u001b[43m*\u001b[49m\u001b[43margs\u001b[49m\u001b[43m,\u001b[49m\u001b[43m \u001b[49m\u001b[43m*\u001b[49m\u001b[43m*\u001b[49m\u001b[43mkw\u001b[49m\u001b[43m)\u001b[49m\n",
      "\u001b[36mFile \u001b[39m\u001b[32m~/GitHub/poor-man-lakehouse/.venv/lib/python3.12/site-packages/pyiceberg/schema.py:891\u001b[39m, in \u001b[36m_\u001b[39m\u001b[34m(obj, visitor)\u001b[39m\n\u001b[32m    888\u001b[39m \u001b[38;5;129m@pre_order_visit\u001b[39m.register(Schema)\n\u001b[32m    889\u001b[39m \u001b[38;5;28;01mdef\u001b[39;00m\u001b[38;5;250m \u001b[39m\u001b[34m_\u001b[39m(obj: Schema, visitor: PreOrderSchemaVisitor[T]) -> T:\n\u001b[32m    890\u001b[39m \u001b[38;5;250m    \u001b[39m\u001b[33;03m\"\"\"Visit a Schema with a concrete PreOrderSchemaVisitor.\"\"\"\u001b[39;00m\n\u001b[32m--> \u001b[39m\u001b[32m891\u001b[39m     \u001b[38;5;28;01mreturn\u001b[39;00m \u001b[43mvisitor\u001b[49m\u001b[43m.\u001b[49m\u001b[43mschema\u001b[49m\u001b[43m(\u001b[49m\u001b[43mobj\u001b[49m\u001b[43m,\u001b[49m\u001b[43m \u001b[49m\u001b[38;5;28;43;01mlambda\u001b[39;49;00m\u001b[43m:\u001b[49m\u001b[43m \u001b[49m\u001b[43mpre_order_visit\u001b[49m\u001b[43m(\u001b[49m\u001b[43mobj\u001b[49m\u001b[43m.\u001b[49m\u001b[43mas_struct\u001b[49m\u001b[43m(\u001b[49m\u001b[43m)\u001b[49m\u001b[43m,\u001b[49m\u001b[43m \u001b[49m\u001b[43mvisitor\u001b[49m\u001b[43m)\u001b[49m\u001b[43m)\u001b[49m\n",
      "\u001b[36mFile \u001b[39m\u001b[32m~/GitHub/poor-man-lakehouse/.venv/lib/python3.12/site-packages/pyiceberg/schema.py:1696\u001b[39m, in \u001b[36m_SchemaCompatibilityVisitor.schema\u001b[39m\u001b[34m(self, schema, struct_result)\u001b[39m\n\u001b[32m   1694\u001b[39m \u001b[38;5;28;01mif\u001b[39;00m \u001b[38;5;129;01mnot\u001b[39;00m (result := struct_result()):\n\u001b[32m   1695\u001b[39m     \u001b[38;5;28mself\u001b[39m.console.print(\u001b[38;5;28mself\u001b[39m.rich_table)\n\u001b[32m-> \u001b[39m\u001b[32m1696\u001b[39m     \u001b[38;5;28;01mraise\u001b[39;00m \u001b[38;5;167;01mValueError\u001b[39;00m(\u001b[33mf\u001b[39m\u001b[33m\"\u001b[39m\u001b[33mMismatch in fields:\u001b[39m\u001b[38;5;130;01m\\n\u001b[39;00m\u001b[38;5;132;01m{\u001b[39;00m\u001b[38;5;28mself\u001b[39m.console.export_text()\u001b[38;5;132;01m}\u001b[39;00m\u001b[33m\"\u001b[39m)\n\u001b[32m   1697\u001b[39m \u001b[38;5;28;01mreturn\u001b[39;00m result\n",
      "\u001b[31mValueError\u001b[39m: Mismatch in fields:\n┏━━━━┳━━━━━━━━━━━━━━━━━━━━━━━━━━━━━━━━━━━━━━━━━━━━━━━━━━━━━┳━━━━━━━━━━━━━━━━━━━━━━━━━━━━━━━━━━━━━━━━━━━━━━━━━━━━━━┓\n┃    ┃ Table field                                         ┃ Dataframe field                                      ┃\n┡━━━━╇━━━━━━━━━━━━━━━━━━━━━━━━━━━━━━━━━━━━━━━━━━━━━━━━━━━━━╇━━━━━━━━━━━━━━━━━━━━━━━━━━━━━━━━━━━━━━━━━━━━━━━━━━━━━━┩\n│ ❌ │ 1: datetime: required timestamp                     │ 1: datetime: optional timestamp                      │\n│ ❌ │ 2: symbol: required string                          │ 2: symbol: optional string                           │\n│ ❌ │ 3: bid: optional float                              │ 3: bid: optional double                              │\n│ ✅ │ 4: ask: optional double                             │ 4: ask: optional double                              │\n│ ✅ │ 5: details: optional struct<6: created_by: optional │ 5: details: optional struct<6: created_by: optional  │\n│    │ string>                                             │ string>                                              │\n│ ✅ │ 6: created_by: optional string                      │ 6: created_by: optional string                       │\n└────┴─────────────────────────────────────────────────────┴──────────────────────────────────────────────────────┘\n"
     ]
    }
   ],
   "source": [
    "data.write_iceberg(table, \"overwrite\")"
   ]
  },
  {
   "cell_type": "markdown",
   "id": "6e258802",
   "metadata": {},
   "source": [
    "## Partition evolution"
   ]
  },
  {
   "cell_type": "code",
   "execution_count": 18,
   "id": "73299036",
   "metadata": {},
   "outputs": [],
   "source": [
    "from pyiceberg.transforms import IdentityTransform\n",
    "\n",
    "with table.update_spec() as update:\n",
    "    # update.add_field(\"symbol\", IdentityTransform(), \"symbol\")\n",
    "    update.rename_field(\"datetime_day\", \"datetime\")\n"
   ]
  },
  {
   "cell_type": "code",
   "execution_count": 19,
   "id": "e36e49c1",
   "metadata": {},
   "outputs": [
    {
     "data": {
      "text/plain": [
       "pyarrow.Table\n",
       "partition: struct<datetime: date32[day]> not null\n",
       "  child 0, datetime: date32[day]\n",
       "spec_id: int32 not null\n",
       "record_count: int64 not null\n",
       "file_count: int32 not null\n",
       "total_data_file_size_in_bytes: int64 not null\n",
       "position_delete_record_count: int64 not null\n",
       "position_delete_file_count: int32 not null\n",
       "equality_delete_record_count: int64 not null\n",
       "equality_delete_file_count: int32 not null\n",
       "last_updated_at: timestamp[ms]\n",
       "last_updated_snapshot_id: int64\n",
       "----\n",
       "partition: [\n",
       "  -- is_valid: all not null\n",
       "  -- child 0 type: date32[day]\n",
       "[null,null,null,null]]\n",
       "spec_id: [[0,0,0,0]]\n",
       "record_count: [[1,2,1,1]]\n",
       "file_count: [[1,2,1,1]]\n",
       "total_data_file_size_in_bytes: [[2129,4238,2129,2083]]\n",
       "position_delete_record_count: [[0,0,0,0]]\n",
       "position_delete_file_count: [[0,0,0,0]]\n",
       "equality_delete_record_count: [[0,0,0,0]]\n",
       "equality_delete_file_count: [[0,0,0,0]]\n",
       "last_updated_at: [[2025-08-31 12:43:57.800,2025-08-31 12:43:57.800,null,null]]\n",
       "..."
      ]
     },
     "execution_count": 19,
     "metadata": {},
     "output_type": "execute_result"
    }
   ],
   "source": [
    "table.inspect.partitions()"
   ]
  },
  {
   "cell_type": "markdown",
   "id": "9162d5e9",
   "metadata": {},
   "source": [
    "## Check History"
   ]
  },
  {
   "cell_type": "code",
   "execution_count": 20,
   "id": "151f1c73",
   "metadata": {},
   "outputs": [
    {
     "data": {
      "text/html": [
       "<div><style>\n",
       ".dataframe > thead > tr,\n",
       ".dataframe > tbody > tr {\n",
       "  text-align: right;\n",
       "  white-space: pre-wrap;\n",
       "}\n",
       "</style>\n",
       "<small>shape: (1, 4)</small><table border=\"1\" class=\"dataframe\"><thead><tr><th>made_current_at</th><th>snapshot_id</th><th>parent_id</th><th>is_current_ancestor</th></tr><tr><td>datetime[ms]</td><td>i64</td><td>i64</td><td>bool</td></tr></thead><tbody><tr><td>2025-08-31 12:43:57.800</td><td>8873591517873357095</td><td>null</td><td>true</td></tr></tbody></table></div>"
      ],
      "text/plain": [
       "shape: (1, 4)\n",
       "┌─────────────────────────┬─────────────────────┬───────────┬─────────────────────┐\n",
       "│ made_current_at         ┆ snapshot_id         ┆ parent_id ┆ is_current_ancestor │\n",
       "│ ---                     ┆ ---                 ┆ ---       ┆ ---                 │\n",
       "│ datetime[ms]            ┆ i64                 ┆ i64       ┆ bool                │\n",
       "╞═════════════════════════╪═════════════════════╪═══════════╪═════════════════════╡\n",
       "│ 2025-08-31 12:43:57.800 ┆ 8873591517873357095 ┆ null      ┆ true                │\n",
       "└─────────────────────────┴─────────────────────┴───────────┴─────────────────────┘"
      ]
     },
     "execution_count": 20,
     "metadata": {},
     "output_type": "execute_result"
    }
   ],
   "source": [
    "pl.from_arrow(table.inspect.history())"
   ]
  }
 ],
 "metadata": {
  "kernelspec": {
   "display_name": "poor-man-lakehouse",
   "language": "python",
   "name": "python3"
  },
  "language_info": {
   "codemirror_mode": {
    "name": "ipython",
    "version": 3
   },
   "file_extension": ".py",
   "mimetype": "text/x-python",
   "name": "python",
   "nbconvert_exporter": "python",
   "pygments_lexer": "ipython3",
   "version": "3.12.5"
  }
 },
 "nbformat": 4,
 "nbformat_minor": 5
}
