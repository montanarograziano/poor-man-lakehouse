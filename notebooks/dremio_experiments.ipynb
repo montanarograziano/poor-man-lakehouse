{
 "cells": [
  {
   "cell_type": "code",
   "execution_count": null,
   "id": "aa97ddf1",
   "metadata": {},
   "outputs": [],
   "source": [
    "from poor_man_lakehouse.dremio.builder import DremioConnection\n",
    "\n",
    "con = DremioConnection()"
   ]
  },
  {
   "cell_type": "code",
   "execution_count": 2,
   "id": "0bbfa0fd",
   "metadata": {},
   "outputs": [],
   "source": [
    "con.set_catalog(\"nessie\")"
   ]
  },
  {
   "cell_type": "code",
   "execution_count": 3,
   "id": "6d58c876",
   "metadata": {},
   "outputs": [
    {
     "data": {
      "text/html": [
       "<div><style>\n",
       ".dataframe > thead > tr,\n",
       ".dataframe > tbody > tr {\n",
       "  text-align: right;\n",
       "  white-space: pre-wrap;\n",
       "}\n",
       "</style>\n",
       "<small>shape: (5, 4)</small><table border=\"1\" class=\"dataframe\"><thead><tr><th>id</th><th>first_name</th><th>last_name</th><th>age</th></tr><tr><td>i32</td><td>str</td><td>str</td><td>i32</td></tr></thead><tbody><tr><td>1</td><td>&quot;John&quot;</td><td>&quot;Doe&quot;</td><td>28</td></tr><tr><td>1</td><td>&quot;John&quot;</td><td>&quot;Doe&quot;</td><td>28</td></tr><tr><td>1</td><td>&quot;John&quot;</td><td>&quot;Doe&quot;</td><td>28</td></tr><tr><td>1</td><td>&quot;John&quot;</td><td>&quot;Doe&quot;</td><td>28</td></tr><tr><td>1</td><td>&quot;John&quot;</td><td>&quot;Doe&quot;</td><td>28</td></tr></tbody></table></div>"
      ],
      "text/plain": [
       "shape: (5, 4)\n",
       "┌─────┬────────────┬───────────┬─────┐\n",
       "│ id  ┆ first_name ┆ last_name ┆ age │\n",
       "│ --- ┆ ---        ┆ ---       ┆ --- │\n",
       "│ i32 ┆ str        ┆ str       ┆ i32 │\n",
       "╞═════╪════════════╪═══════════╪═════╡\n",
       "│ 1   ┆ John       ┆ Doe       ┆ 28  │\n",
       "│ 1   ┆ John       ┆ Doe       ┆ 28  │\n",
       "│ 1   ┆ John       ┆ Doe       ┆ 28  │\n",
       "│ 1   ┆ John       ┆ Doe       ┆ 28  │\n",
       "│ 1   ┆ John       ┆ Doe       ┆ 28  │\n",
       "└─────┴────────────┴───────────┴─────┘"
      ]
     },
     "execution_count": 3,
     "metadata": {},
     "output_type": "execute_result"
    }
   ],
   "source": [
    "create_query = \"\"\"CREATE TABLE IF NOT EXISTS nessie.people (\n",
    "id INT,\n",
    "first_name VARCHAR,\n",
    "last_name VARCHAR,\n",
    "age INT\n",
    ") PARTITION BY (truncate(1, last_name));\n",
    "\"\"\"\n",
    "insert_query = \"\"\"INSERT INTO nessie.people (id, first_name, last_name, age) VALUES (1, 'John', 'Doe', 28)\"\"\"\n",
    "select_query = \"\"\"SELECT * FROM nessie.people\"\"\"\n",
    "\n",
    "con.to_polars(create_query)\n",
    "con.to_polars(insert_query)\n",
    "con.to_polars(select_query)"
   ]
  }
 ],
 "metadata": {
  "kernelspec": {
   "display_name": ".venv",
   "language": "python",
   "name": "python3"
  },
  "language_info": {
   "codemirror_mode": {
    "name": "ipython",
    "version": 3
   },
   "file_extension": ".py",
   "mimetype": "text/x-python",
   "name": "python",
   "nbconvert_exporter": "python",
   "pygments_lexer": "ipython3",
   "version": "3.12.5"
  }
 },
 "nbformat": 4,
 "nbformat_minor": 5
}
