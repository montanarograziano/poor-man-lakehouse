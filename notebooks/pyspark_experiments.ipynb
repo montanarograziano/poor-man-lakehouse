{
 "cells": [
  {
   "cell_type": "code",
   "execution_count": 1,
   "id": "3ea60e9e",
   "metadata": {},
   "outputs": [
    {
     "name": "stderr",
     "output_type": "stream",
     "text": [
      "25/08/31 14:42:16 WARN Utils: Your hostname, MacBookPro.homenet.telecomitalia.it resolves to a loopback address: 127.0.0.1; using 192.168.1.81 instead (on interface en0)\n",
      "25/08/31 14:42:16 WARN Utils: Set SPARK_LOCAL_IP if you need to bind to another address\n",
      "Ivy Default Cache set to: /Users/graziano/.ivy2/cache\n",
      "The jars for the packages stored in: /Users/graziano/.ivy2/jars\n",
      "org.apache.iceberg#iceberg-spark-runtime-3.5_2.13 added as a dependency\n",
      "org.projectnessie.nessie-integrations#nessie-spark-extensions-3.5_2.13 added as a dependency\n",
      "org.apache.iceberg#iceberg-aws-bundle added as a dependency\n",
      ":: resolving dependencies :: org.apache.spark#spark-submit-parent-6bdd8c61-e14e-4de2-9f70-40121de6201e;1.0\n",
      "\tconfs: [default]\n",
      "\tfound org.apache.iceberg#iceberg-spark-runtime-3.5_2.13;1.9.2 in central\n"
     ]
    },
    {
     "name": "stdout",
     "output_type": "stream",
     "text": [
      ":: loading settings :: url = jar:file:/opt/homebrew/Cellar/apache-spark/3.5.6/jars/ivy-2.5.1.jar!/org/apache/ivy/core/settings/ivysettings.xml\n"
     ]
    },
    {
     "name": "stderr",
     "output_type": "stream",
     "text": [
      "\tfound org.projectnessie.nessie-integrations#nessie-spark-extensions-3.5_2.13;0.103.3 in central\n",
      "\tfound org.apache.iceberg#iceberg-aws-bundle;1.9.2 in central\n",
      ":: resolution report :: resolve 88ms :: artifacts dl 3ms\n",
      "\t:: modules in use:\n",
      "\torg.apache.iceberg#iceberg-aws-bundle;1.9.2 from central in [default]\n",
      "\torg.apache.iceberg#iceberg-spark-runtime-3.5_2.13;1.9.2 from central in [default]\n",
      "\torg.projectnessie.nessie-integrations#nessie-spark-extensions-3.5_2.13;0.103.3 from central in [default]\n",
      "\t---------------------------------------------------------------------\n",
      "\t|                  |            modules            ||   artifacts   |\n",
      "\t|       conf       | number| search|dwnlded|evicted|| number|dwnlded|\n",
      "\t---------------------------------------------------------------------\n",
      "\t|      default     |   3   |   0   |   0   |   0   ||   3   |   0   |\n",
      "\t---------------------------------------------------------------------\n",
      ":: retrieving :: org.apache.spark#spark-submit-parent-6bdd8c61-e14e-4de2-9f70-40121de6201e\n",
      "\tconfs: [default]\n",
      "\t0 artifacts copied, 3 already retrieved (0kB/3ms)\n",
      "25/08/31 14:42:16 WARN NativeCodeLoader: Unable to load native-hadoop library for your platform... using builtin-java classes where applicable\n",
      "Setting default log level to \"WARN\".\n",
      "To adjust logging level use sc.setLogLevel(newLevel). For SparkR, use setLogLevel(newLevel).\n"
     ]
    }
   ],
   "source": [
    "from poor_man_lakehouse.spark.builder import retrieve_current_spark_session\n",
    "\n",
    "spark = retrieve_current_spark_session()\n"
   ]
  },
  {
   "cell_type": "code",
   "execution_count": 2,
   "id": "ced991cf",
   "metadata": {},
   "outputs": [
    {
     "data": {
      "text/plain": [
       "DataFrame[]"
      ]
     },
     "execution_count": 2,
     "metadata": {},
     "output_type": "execute_result"
    }
   ],
   "source": [
    "spark.sql(\"use nessie\")"
   ]
  },
  {
   "cell_type": "code",
   "execution_count": 3,
   "id": "aa16ca69",
   "metadata": {},
   "outputs": [
    {
     "name": "stdout",
     "output_type": "stream",
     "text": [
      "++\n",
      "||\n",
      "++\n",
      "++\n",
      "\n"
     ]
    }
   ],
   "source": [
    "spark.sql(\"CREATE DATABASE IF NOT EXISTS default\").show()\n"
   ]
  },
  {
   "cell_type": "code",
   "execution_count": 4,
   "id": "31997cb8",
   "metadata": {},
   "outputs": [
    {
     "name": "stdout",
     "output_type": "stream",
     "text": [
      "+-------------+\n",
      "|      catalog|\n",
      "+-------------+\n",
      "|       nessie|\n",
      "|spark_catalog|\n",
      "+-------------+\n",
      "\n",
      "+---------+\n",
      "|namespace|\n",
      "+---------+\n",
      "|  default|\n",
      "+---------+\n",
      "\n",
      "+---------+---------+-----------+\n",
      "|namespace|tableName|isTemporary|\n",
      "+---------+---------+-----------+\n",
      "+---------+---------+-----------+\n",
      "\n"
     ]
    }
   ],
   "source": [
    "spark.sql(\"SHOW CATALOGS\").show()\n",
    "spark.sql(\"show schemas\").show()\n",
    "spark.sql(\"SHOW  tables in default\").show()"
   ]
  },
  {
   "cell_type": "code",
   "execution_count": 5,
   "id": "feca4502",
   "metadata": {},
   "outputs": [],
   "source": [
    "import polars as pl\n",
    "import datetime\n",
    "from pyspark.sql import DataFrame\n",
    "\n",
    "data = pl.DataFrame(\n",
    "    {\n",
    "        \"datetime\": [\n",
    "            datetime.datetime(2023, 1, 1, 12, 0),\n",
    "            datetime.datetime(2023, 1, 2, 12, 0),\n",
    "            datetime.datetime(2023, 1, 3, 12, 0),\n",
    "        ],\n",
    "        \"symbol\": [\"AAPL\", \"GOOGL\", \"MSFT\"],\n",
    "        \"bid\": [150.0, 2800.0, 300.0],\n",
    "        \"ask\": [151.0, 2805.0, 305.0],\n",
    "        \"details\": [\n",
    "            {\"created_by\": \"user1\"},\n",
    "            {\"created_by\": \"user2\"},\n",
    "            {\"created_by\": None},\n",
    "        ],\n",
    "    },\n",
    ")\n",
    "\n",
    "spark_df: DataFrame = spark.createDataFrame(data.to_pandas())\n"
   ]
  },
  {
   "cell_type": "code",
   "execution_count": 6,
   "id": "2825702c",
   "metadata": {},
   "outputs": [
    {
     "name": "stderr",
     "output_type": "stream",
     "text": [
      "                                                                                \r"
     ]
    }
   ],
   "source": [
    "spark_df.write.format(\"iceberg\").mode(\"overwrite\").option(\n",
    "    \"path\", \"s3a://warehouse/default/prova/\"\n",
    ").saveAsTable(\"nessie.default.prova\")"
   ]
  },
  {
   "cell_type": "code",
   "execution_count": 7,
   "id": "5617251f",
   "metadata": {},
   "outputs": [
    {
     "name": "stdout",
     "output_type": "stream",
     "text": [
      "+-------------------+------+------+------+--------------------+\n",
      "|           datetime|symbol|   bid|   ask|             details|\n",
      "+-------------------+------+------+------+--------------------+\n",
      "|2023-01-01 12:00:00|  AAPL| 150.0| 151.0|{created_by -> us...|\n",
      "|2023-01-02 12:00:00| GOOGL|2800.0|2805.0|{created_by -> us...|\n",
      "|2023-01-03 12:00:00|  MSFT| 300.0| 305.0|{created_by -> NULL}|\n",
      "+-------------------+------+------+------+--------------------+\n",
      "\n"
     ]
    }
   ],
   "source": [
    "spark.sql(\"\"\"SELECT * FROM default.prova\"\"\").show()"
   ]
  },
  {
   "cell_type": "code",
   "execution_count": 9,
   "id": "66f39a06",
   "metadata": {},
   "outputs": [
    {
     "name": "stderr",
     "output_type": "stream",
     "text": [
      "                                                                                \r"
     ]
    },
    {
     "name": "stdout",
     "output_type": "stream",
     "text": [
      "+---+----------+---------+---+\n",
      "| id|first_name|last_name|age|\n",
      "+---+----------+---------+---+\n",
      "|  5|   Charlie|    Brown| 30|\n",
      "|  1|      John|      Doe| 28|\n",
      "| 10|     Henry|    Davis| 38|\n",
      "|  7|       Eve|   Garcia| 32|\n",
      "|  3|     Alice|  Johnson| 22|\n",
      "|  6|     David|    Jones| 25|\n",
      "|  9|     Grace|      Lee| 27|\n",
      "|  8|     Frank|   Miller| 29|\n",
      "|  2|      Jane|    Smith| 34|\n",
      "|  4|       Bob| Williams| 45|\n",
      "+---+----------+---------+---+\n",
      "\n"
     ]
    }
   ],
   "source": [
    "spark.table(\"default.people\").show()"
   ]
  }
 ],
 "metadata": {
  "kernelspec": {
   "display_name": "poor-man-lakehouse",
   "language": "python",
   "name": "python3"
  },
  "language_info": {
   "codemirror_mode": {
    "name": "ipython",
    "version": 3
   },
   "file_extension": ".py",
   "mimetype": "text/x-python",
   "name": "python",
   "nbconvert_exporter": "python",
   "pygments_lexer": "ipython3",
   "version": "3.12.5"
  }
 },
 "nbformat": 4,
 "nbformat_minor": 5
}
